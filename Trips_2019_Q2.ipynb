{
 "cells": [
  {
   "cell_type": "code",
   "execution_count": 1,
   "id": "bf943fed",
   "metadata": {},
   "outputs": [],
   "source": [
    "import pandas as pd"
   ]
  },
  {
   "cell_type": "code",
   "execution_count": 2,
   "id": "59317054",
   "metadata": {},
   "outputs": [],
   "source": [
    "import numpy as np\n",
    "import seaborn as sns"
   ]
  },
  {
   "cell_type": "code",
   "execution_count": 101,
   "id": "5e8c2bf8",
   "metadata": {},
   "outputs": [],
   "source": [
    "data=pd.read_csv('Divvy_Trips_2019_Q2.csv')"
   ]
  },
  {
   "cell_type": "code",
   "execution_count": 102,
   "id": "7430fa20",
   "metadata": {},
   "outputs": [
    {
     "data": {
      "text/html": [
       "<div>\n",
       "<style scoped>\n",
       "    .dataframe tbody tr th:only-of-type {\n",
       "        vertical-align: middle;\n",
       "    }\n",
       "\n",
       "    .dataframe tbody tr th {\n",
       "        vertical-align: top;\n",
       "    }\n",
       "\n",
       "    .dataframe thead th {\n",
       "        text-align: right;\n",
       "    }\n",
       "</style>\n",
       "<table border=\"1\" class=\"dataframe\">\n",
       "  <thead>\n",
       "    <tr style=\"text-align: right;\">\n",
       "      <th></th>\n",
       "      <th>01 - Rental Details Rental ID</th>\n",
       "      <th>01 - Rental Details Local Start Time</th>\n",
       "      <th>01 - Rental Details Local End Time</th>\n",
       "      <th>01 - Rental Details Bike ID</th>\n",
       "      <th>01 - Rental Details Duration In Seconds Uncapped</th>\n",
       "      <th>03 - Rental Start Station ID</th>\n",
       "      <th>03 - Rental Start Station Name</th>\n",
       "      <th>02 - Rental End Station ID</th>\n",
       "      <th>02 - Rental End Station Name</th>\n",
       "      <th>User Type</th>\n",
       "      <th>Member Gender</th>\n",
       "      <th>05 - Member Details Member Birthday Year</th>\n",
       "    </tr>\n",
       "  </thead>\n",
       "  <tbody>\n",
       "    <tr>\n",
       "      <th>0</th>\n",
       "      <td>22178529</td>\n",
       "      <td>2019-04-01 00:02:22</td>\n",
       "      <td>2019-04-01 00:09:48</td>\n",
       "      <td>6251</td>\n",
       "      <td>446.0</td>\n",
       "      <td>81</td>\n",
       "      <td>Daley Center Plaza</td>\n",
       "      <td>56</td>\n",
       "      <td>Desplaines St &amp; Kinzie St</td>\n",
       "      <td>Subscriber</td>\n",
       "      <td>Male</td>\n",
       "      <td>1975.0</td>\n",
       "    </tr>\n",
       "    <tr>\n",
       "      <th>1</th>\n",
       "      <td>22178530</td>\n",
       "      <td>2019-04-01 00:03:02</td>\n",
       "      <td>2019-04-01 00:20:30</td>\n",
       "      <td>6226</td>\n",
       "      <td>1,048.0</td>\n",
       "      <td>317</td>\n",
       "      <td>Wood St &amp; Taylor St</td>\n",
       "      <td>59</td>\n",
       "      <td>Wabash Ave &amp; Roosevelt Rd</td>\n",
       "      <td>Subscriber</td>\n",
       "      <td>Female</td>\n",
       "      <td>1984.0</td>\n",
       "    </tr>\n",
       "    <tr>\n",
       "      <th>2</th>\n",
       "      <td>22178531</td>\n",
       "      <td>2019-04-01 00:11:07</td>\n",
       "      <td>2019-04-01 00:15:19</td>\n",
       "      <td>5649</td>\n",
       "      <td>252.0</td>\n",
       "      <td>283</td>\n",
       "      <td>LaSalle St &amp; Jackson Blvd</td>\n",
       "      <td>174</td>\n",
       "      <td>Canal St &amp; Madison St</td>\n",
       "      <td>Subscriber</td>\n",
       "      <td>Male</td>\n",
       "      <td>1990.0</td>\n",
       "    </tr>\n",
       "    <tr>\n",
       "      <th>3</th>\n",
       "      <td>22178532</td>\n",
       "      <td>2019-04-01 00:13:01</td>\n",
       "      <td>2019-04-01 00:18:58</td>\n",
       "      <td>4151</td>\n",
       "      <td>357.0</td>\n",
       "      <td>26</td>\n",
       "      <td>McClurg Ct &amp; Illinois St</td>\n",
       "      <td>133</td>\n",
       "      <td>Kingsbury St &amp; Kinzie St</td>\n",
       "      <td>Subscriber</td>\n",
       "      <td>Male</td>\n",
       "      <td>1993.0</td>\n",
       "    </tr>\n",
       "    <tr>\n",
       "      <th>4</th>\n",
       "      <td>22178533</td>\n",
       "      <td>2019-04-01 00:19:26</td>\n",
       "      <td>2019-04-01 00:36:13</td>\n",
       "      <td>3270</td>\n",
       "      <td>1,007.0</td>\n",
       "      <td>202</td>\n",
       "      <td>Halsted St &amp; 18th St</td>\n",
       "      <td>129</td>\n",
       "      <td>Blue Island Ave &amp; 18th St</td>\n",
       "      <td>Subscriber</td>\n",
       "      <td>Male</td>\n",
       "      <td>1992.0</td>\n",
       "    </tr>\n",
       "    <tr>\n",
       "      <th>...</th>\n",
       "      <td>...</td>\n",
       "      <td>...</td>\n",
       "      <td>...</td>\n",
       "      <td>...</td>\n",
       "      <td>...</td>\n",
       "      <td>...</td>\n",
       "      <td>...</td>\n",
       "      <td>...</td>\n",
       "      <td>...</td>\n",
       "      <td>...</td>\n",
       "      <td>...</td>\n",
       "      <td>...</td>\n",
       "    </tr>\n",
       "    <tr>\n",
       "      <th>1108158</th>\n",
       "      <td>23479383</td>\n",
       "      <td>2019-06-30 23:58:00</td>\n",
       "      <td>2019-07-01 00:20:22</td>\n",
       "      <td>4573</td>\n",
       "      <td>1,342.0</td>\n",
       "      <td>206</td>\n",
       "      <td>Halsted St &amp; Archer Ave</td>\n",
       "      <td>206</td>\n",
       "      <td>Halsted St &amp; Archer Ave</td>\n",
       "      <td>Customer</td>\n",
       "      <td>NaN</td>\n",
       "      <td>NaN</td>\n",
       "    </tr>\n",
       "    <tr>\n",
       "      <th>1108159</th>\n",
       "      <td>23479384</td>\n",
       "      <td>2019-06-30 23:58:04</td>\n",
       "      <td>2019-07-01 00:14:17</td>\n",
       "      <td>6301</td>\n",
       "      <td>973.0</td>\n",
       "      <td>199</td>\n",
       "      <td>Wabash Ave &amp; Grand Ave</td>\n",
       "      <td>338</td>\n",
       "      <td>Calumet Ave &amp; 18th St</td>\n",
       "      <td>Subscriber</td>\n",
       "      <td>Male</td>\n",
       "      <td>1980.0</td>\n",
       "    </tr>\n",
       "    <tr>\n",
       "      <th>1108160</th>\n",
       "      <td>23479385</td>\n",
       "      <td>2019-06-30 23:58:20</td>\n",
       "      <td>2019-07-01 00:25:51</td>\n",
       "      <td>4472</td>\n",
       "      <td>1,651.0</td>\n",
       "      <td>319</td>\n",
       "      <td>Greenview Ave &amp; Diversey Pkwy</td>\n",
       "      <td>337</td>\n",
       "      <td>Clark St &amp; Chicago Ave</td>\n",
       "      <td>Subscriber</td>\n",
       "      <td>Female</td>\n",
       "      <td>1991.0</td>\n",
       "    </tr>\n",
       "    <tr>\n",
       "      <th>1108161</th>\n",
       "      <td>23479386</td>\n",
       "      <td>2019-06-30 23:58:52</td>\n",
       "      <td>2019-07-01 00:11:24</td>\n",
       "      <td>5021</td>\n",
       "      <td>752.0</td>\n",
       "      <td>226</td>\n",
       "      <td>Racine Ave &amp; Belmont Ave</td>\n",
       "      <td>300</td>\n",
       "      <td>Broadway &amp; Barry Ave</td>\n",
       "      <td>Subscriber</td>\n",
       "      <td>Male</td>\n",
       "      <td>1992.0</td>\n",
       "    </tr>\n",
       "    <tr>\n",
       "      <th>1108162</th>\n",
       "      <td>23479387</td>\n",
       "      <td>2019-06-30 23:59:05</td>\n",
       "      <td>2019-07-01 00:26:14</td>\n",
       "      <td>4749</td>\n",
       "      <td>1,629.0</td>\n",
       "      <td>85</td>\n",
       "      <td>Michigan Ave &amp; Oak St</td>\n",
       "      <td>249</td>\n",
       "      <td>Montrose Harbor</td>\n",
       "      <td>Subscriber</td>\n",
       "      <td>Male</td>\n",
       "      <td>1987.0</td>\n",
       "    </tr>\n",
       "  </tbody>\n",
       "</table>\n",
       "<p>1108163 rows × 12 columns</p>\n",
       "</div>"
      ],
      "text/plain": [
       "         01 - Rental Details Rental ID 01 - Rental Details Local Start Time  \\\n",
       "0                             22178529                  2019-04-01 00:02:22   \n",
       "1                             22178530                  2019-04-01 00:03:02   \n",
       "2                             22178531                  2019-04-01 00:11:07   \n",
       "3                             22178532                  2019-04-01 00:13:01   \n",
       "4                             22178533                  2019-04-01 00:19:26   \n",
       "...                                ...                                  ...   \n",
       "1108158                       23479383                  2019-06-30 23:58:00   \n",
       "1108159                       23479384                  2019-06-30 23:58:04   \n",
       "1108160                       23479385                  2019-06-30 23:58:20   \n",
       "1108161                       23479386                  2019-06-30 23:58:52   \n",
       "1108162                       23479387                  2019-06-30 23:59:05   \n",
       "\n",
       "        01 - Rental Details Local End Time  01 - Rental Details Bike ID  \\\n",
       "0                      2019-04-01 00:09:48                         6251   \n",
       "1                      2019-04-01 00:20:30                         6226   \n",
       "2                      2019-04-01 00:15:19                         5649   \n",
       "3                      2019-04-01 00:18:58                         4151   \n",
       "4                      2019-04-01 00:36:13                         3270   \n",
       "...                                    ...                          ...   \n",
       "1108158                2019-07-01 00:20:22                         4573   \n",
       "1108159                2019-07-01 00:14:17                         6301   \n",
       "1108160                2019-07-01 00:25:51                         4472   \n",
       "1108161                2019-07-01 00:11:24                         5021   \n",
       "1108162                2019-07-01 00:26:14                         4749   \n",
       "\n",
       "        01 - Rental Details Duration In Seconds Uncapped  \\\n",
       "0                                                  446.0   \n",
       "1                                                1,048.0   \n",
       "2                                                  252.0   \n",
       "3                                                  357.0   \n",
       "4                                                1,007.0   \n",
       "...                                                  ...   \n",
       "1108158                                          1,342.0   \n",
       "1108159                                            973.0   \n",
       "1108160                                          1,651.0   \n",
       "1108161                                            752.0   \n",
       "1108162                                          1,629.0   \n",
       "\n",
       "         03 - Rental Start Station ID 03 - Rental Start Station Name  \\\n",
       "0                                  81             Daley Center Plaza   \n",
       "1                                 317            Wood St & Taylor St   \n",
       "2                                 283      LaSalle St & Jackson Blvd   \n",
       "3                                  26       McClurg Ct & Illinois St   \n",
       "4                                 202           Halsted St & 18th St   \n",
       "...                               ...                            ...   \n",
       "1108158                           206        Halsted St & Archer Ave   \n",
       "1108159                           199         Wabash Ave & Grand Ave   \n",
       "1108160                           319  Greenview Ave & Diversey Pkwy   \n",
       "1108161                           226       Racine Ave & Belmont Ave   \n",
       "1108162                            85          Michigan Ave & Oak St   \n",
       "\n",
       "         02 - Rental End Station ID 02 - Rental End Station Name   User Type  \\\n",
       "0                                56    Desplaines St & Kinzie St  Subscriber   \n",
       "1                                59    Wabash Ave & Roosevelt Rd  Subscriber   \n",
       "2                               174        Canal St & Madison St  Subscriber   \n",
       "3                               133     Kingsbury St & Kinzie St  Subscriber   \n",
       "4                               129    Blue Island Ave & 18th St  Subscriber   \n",
       "...                             ...                          ...         ...   \n",
       "1108158                         206      Halsted St & Archer Ave    Customer   \n",
       "1108159                         338        Calumet Ave & 18th St  Subscriber   \n",
       "1108160                         337       Clark St & Chicago Ave  Subscriber   \n",
       "1108161                         300         Broadway & Barry Ave  Subscriber   \n",
       "1108162                         249              Montrose Harbor  Subscriber   \n",
       "\n",
       "        Member Gender  05 - Member Details Member Birthday Year  \n",
       "0                Male                                    1975.0  \n",
       "1              Female                                    1984.0  \n",
       "2                Male                                    1990.0  \n",
       "3                Male                                    1993.0  \n",
       "4                Male                                    1992.0  \n",
       "...               ...                                       ...  \n",
       "1108158           NaN                                       NaN  \n",
       "1108159          Male                                    1980.0  \n",
       "1108160        Female                                    1991.0  \n",
       "1108161          Male                                    1992.0  \n",
       "1108162          Male                                    1987.0  \n",
       "\n",
       "[1108163 rows x 12 columns]"
      ]
     },
     "execution_count": 102,
     "metadata": {},
     "output_type": "execute_result"
    }
   ],
   "source": [
    "data"
   ]
  },
  {
   "cell_type": "code",
   "execution_count": 103,
   "id": "2096dbcb",
   "metadata": {},
   "outputs": [
    {
     "data": {
      "text/plain": [
       "Index(['01 - Rental Details Rental ID', '01 - Rental Details Local Start Time',\n",
       "       '01 - Rental Details Local End Time', '01 - Rental Details Bike ID',\n",
       "       '01 - Rental Details Duration In Seconds Uncapped',\n",
       "       '03 - Rental Start Station ID', '03 - Rental Start Station Name',\n",
       "       '02 - Rental End Station ID', '02 - Rental End Station Name',\n",
       "       'User Type', 'Member Gender',\n",
       "       '05 - Member Details Member Birthday Year'],\n",
       "      dtype='object')"
      ]
     },
     "execution_count": 103,
     "metadata": {},
     "output_type": "execute_result"
    }
   ],
   "source": [
    "data.columns"
   ]
  },
  {
   "cell_type": "code",
   "execution_count": 104,
   "id": "e488210c",
   "metadata": {},
   "outputs": [],
   "source": [
    "data=data.drop(columns=['03 - Rental Start Station ID','03 - Rental Start Station Name','02 - Rental End Station ID', '02 - Rental End Station Name',])"
   ]
  },
  {
   "cell_type": "code",
   "execution_count": 105,
   "id": "e1fd9949",
   "metadata": {},
   "outputs": [],
   "source": [
    "data=data.rename(columns={'01 - Rental Details Rental ID':'tripid'})\n",
    "data=data.rename(columns={'01 - Rental Details Local Start Time':'start_time'})\n",
    "data=data.rename(columns={'01 - Rental Details Local End Time':'end_time'})\n"
   ]
  },
  {
   "cell_type": "code",
   "execution_count": 106,
   "id": "320523b4",
   "metadata": {},
   "outputs": [
    {
     "data": {
      "text/html": [
       "<div>\n",
       "<style scoped>\n",
       "    .dataframe tbody tr th:only-of-type {\n",
       "        vertical-align: middle;\n",
       "    }\n",
       "\n",
       "    .dataframe tbody tr th {\n",
       "        vertical-align: top;\n",
       "    }\n",
       "\n",
       "    .dataframe thead th {\n",
       "        text-align: right;\n",
       "    }\n",
       "</style>\n",
       "<table border=\"1\" class=\"dataframe\">\n",
       "  <thead>\n",
       "    <tr style=\"text-align: right;\">\n",
       "      <th></th>\n",
       "      <th>tripid</th>\n",
       "      <th>start_time</th>\n",
       "      <th>end_time</th>\n",
       "      <th>01 - Rental Details Bike ID</th>\n",
       "      <th>01 - Rental Details Duration In Seconds Uncapped</th>\n",
       "      <th>User Type</th>\n",
       "      <th>Member Gender</th>\n",
       "      <th>05 - Member Details Member Birthday Year</th>\n",
       "    </tr>\n",
       "  </thead>\n",
       "  <tbody>\n",
       "    <tr>\n",
       "      <th>0</th>\n",
       "      <td>22178529</td>\n",
       "      <td>2019-04-01 00:02:22</td>\n",
       "      <td>2019-04-01 00:09:48</td>\n",
       "      <td>6251</td>\n",
       "      <td>446.0</td>\n",
       "      <td>Subscriber</td>\n",
       "      <td>Male</td>\n",
       "      <td>1975.0</td>\n",
       "    </tr>\n",
       "    <tr>\n",
       "      <th>1</th>\n",
       "      <td>22178530</td>\n",
       "      <td>2019-04-01 00:03:02</td>\n",
       "      <td>2019-04-01 00:20:30</td>\n",
       "      <td>6226</td>\n",
       "      <td>1,048.0</td>\n",
       "      <td>Subscriber</td>\n",
       "      <td>Female</td>\n",
       "      <td>1984.0</td>\n",
       "    </tr>\n",
       "    <tr>\n",
       "      <th>2</th>\n",
       "      <td>22178531</td>\n",
       "      <td>2019-04-01 00:11:07</td>\n",
       "      <td>2019-04-01 00:15:19</td>\n",
       "      <td>5649</td>\n",
       "      <td>252.0</td>\n",
       "      <td>Subscriber</td>\n",
       "      <td>Male</td>\n",
       "      <td>1990.0</td>\n",
       "    </tr>\n",
       "    <tr>\n",
       "      <th>3</th>\n",
       "      <td>22178532</td>\n",
       "      <td>2019-04-01 00:13:01</td>\n",
       "      <td>2019-04-01 00:18:58</td>\n",
       "      <td>4151</td>\n",
       "      <td>357.0</td>\n",
       "      <td>Subscriber</td>\n",
       "      <td>Male</td>\n",
       "      <td>1993.0</td>\n",
       "    </tr>\n",
       "    <tr>\n",
       "      <th>4</th>\n",
       "      <td>22178533</td>\n",
       "      <td>2019-04-01 00:19:26</td>\n",
       "      <td>2019-04-01 00:36:13</td>\n",
       "      <td>3270</td>\n",
       "      <td>1,007.0</td>\n",
       "      <td>Subscriber</td>\n",
       "      <td>Male</td>\n",
       "      <td>1992.0</td>\n",
       "    </tr>\n",
       "    <tr>\n",
       "      <th>...</th>\n",
       "      <td>...</td>\n",
       "      <td>...</td>\n",
       "      <td>...</td>\n",
       "      <td>...</td>\n",
       "      <td>...</td>\n",
       "      <td>...</td>\n",
       "      <td>...</td>\n",
       "      <td>...</td>\n",
       "    </tr>\n",
       "    <tr>\n",
       "      <th>1108158</th>\n",
       "      <td>23479383</td>\n",
       "      <td>2019-06-30 23:58:00</td>\n",
       "      <td>2019-07-01 00:20:22</td>\n",
       "      <td>4573</td>\n",
       "      <td>1,342.0</td>\n",
       "      <td>Customer</td>\n",
       "      <td>NaN</td>\n",
       "      <td>NaN</td>\n",
       "    </tr>\n",
       "    <tr>\n",
       "      <th>1108159</th>\n",
       "      <td>23479384</td>\n",
       "      <td>2019-06-30 23:58:04</td>\n",
       "      <td>2019-07-01 00:14:17</td>\n",
       "      <td>6301</td>\n",
       "      <td>973.0</td>\n",
       "      <td>Subscriber</td>\n",
       "      <td>Male</td>\n",
       "      <td>1980.0</td>\n",
       "    </tr>\n",
       "    <tr>\n",
       "      <th>1108160</th>\n",
       "      <td>23479385</td>\n",
       "      <td>2019-06-30 23:58:20</td>\n",
       "      <td>2019-07-01 00:25:51</td>\n",
       "      <td>4472</td>\n",
       "      <td>1,651.0</td>\n",
       "      <td>Subscriber</td>\n",
       "      <td>Female</td>\n",
       "      <td>1991.0</td>\n",
       "    </tr>\n",
       "    <tr>\n",
       "      <th>1108161</th>\n",
       "      <td>23479386</td>\n",
       "      <td>2019-06-30 23:58:52</td>\n",
       "      <td>2019-07-01 00:11:24</td>\n",
       "      <td>5021</td>\n",
       "      <td>752.0</td>\n",
       "      <td>Subscriber</td>\n",
       "      <td>Male</td>\n",
       "      <td>1992.0</td>\n",
       "    </tr>\n",
       "    <tr>\n",
       "      <th>1108162</th>\n",
       "      <td>23479387</td>\n",
       "      <td>2019-06-30 23:59:05</td>\n",
       "      <td>2019-07-01 00:26:14</td>\n",
       "      <td>4749</td>\n",
       "      <td>1,629.0</td>\n",
       "      <td>Subscriber</td>\n",
       "      <td>Male</td>\n",
       "      <td>1987.0</td>\n",
       "    </tr>\n",
       "  </tbody>\n",
       "</table>\n",
       "<p>1108163 rows × 8 columns</p>\n",
       "</div>"
      ],
      "text/plain": [
       "           tripid           start_time             end_time  \\\n",
       "0        22178529  2019-04-01 00:02:22  2019-04-01 00:09:48   \n",
       "1        22178530  2019-04-01 00:03:02  2019-04-01 00:20:30   \n",
       "2        22178531  2019-04-01 00:11:07  2019-04-01 00:15:19   \n",
       "3        22178532  2019-04-01 00:13:01  2019-04-01 00:18:58   \n",
       "4        22178533  2019-04-01 00:19:26  2019-04-01 00:36:13   \n",
       "...           ...                  ...                  ...   \n",
       "1108158  23479383  2019-06-30 23:58:00  2019-07-01 00:20:22   \n",
       "1108159  23479384  2019-06-30 23:58:04  2019-07-01 00:14:17   \n",
       "1108160  23479385  2019-06-30 23:58:20  2019-07-01 00:25:51   \n",
       "1108161  23479386  2019-06-30 23:58:52  2019-07-01 00:11:24   \n",
       "1108162  23479387  2019-06-30 23:59:05  2019-07-01 00:26:14   \n",
       "\n",
       "         01 - Rental Details Bike ID  \\\n",
       "0                               6251   \n",
       "1                               6226   \n",
       "2                               5649   \n",
       "3                               4151   \n",
       "4                               3270   \n",
       "...                              ...   \n",
       "1108158                         4573   \n",
       "1108159                         6301   \n",
       "1108160                         4472   \n",
       "1108161                         5021   \n",
       "1108162                         4749   \n",
       "\n",
       "        01 - Rental Details Duration In Seconds Uncapped   User Type  \\\n",
       "0                                                  446.0  Subscriber   \n",
       "1                                                1,048.0  Subscriber   \n",
       "2                                                  252.0  Subscriber   \n",
       "3                                                  357.0  Subscriber   \n",
       "4                                                1,007.0  Subscriber   \n",
       "...                                                  ...         ...   \n",
       "1108158                                          1,342.0    Customer   \n",
       "1108159                                            973.0  Subscriber   \n",
       "1108160                                          1,651.0  Subscriber   \n",
       "1108161                                            752.0  Subscriber   \n",
       "1108162                                          1,629.0  Subscriber   \n",
       "\n",
       "        Member Gender  05 - Member Details Member Birthday Year  \n",
       "0                Male                                    1975.0  \n",
       "1              Female                                    1984.0  \n",
       "2                Male                                    1990.0  \n",
       "3                Male                                    1993.0  \n",
       "4                Male                                    1992.0  \n",
       "...               ...                                       ...  \n",
       "1108158           NaN                                       NaN  \n",
       "1108159          Male                                    1980.0  \n",
       "1108160        Female                                    1991.0  \n",
       "1108161          Male                                    1992.0  \n",
       "1108162          Male                                    1987.0  \n",
       "\n",
       "[1108163 rows x 8 columns]"
      ]
     },
     "execution_count": 106,
     "metadata": {},
     "output_type": "execute_result"
    }
   ],
   "source": [
    "data"
   ]
  },
  {
   "cell_type": "code",
   "execution_count": 11,
   "id": "fbdbddec",
   "metadata": {},
   "outputs": [
    {
     "data": {
      "text/plain": [
       "Index(['tripid', 'start_time', 'end_time', '01 - Rental Details Bike ID',\n",
       "       '01 - Rental Details Duration In Seconds Uncapped',\n",
       "       '03 - Rental Start Station ID', '03 - Rental Start Station Name',\n",
       "       '02 - Rental End Station ID', '02 - Rental End Station Name',\n",
       "       'User Type', 'Member Gender',\n",
       "       '05 - Member Details Member Birthday Year'],\n",
       "      dtype='object')"
      ]
     },
     "execution_count": 11,
     "metadata": {},
     "output_type": "execute_result"
    }
   ],
   "source": [
    "df.columns"
   ]
  },
  {
   "cell_type": "code",
   "execution_count": 107,
   "id": "c9caa42b",
   "metadata": {},
   "outputs": [],
   "source": [
    "data=data.rename(columns={'01 - Rental Details Bike ID':'bikeid'})\n",
    "data=data.rename(columns={'01 - Rental Details Duration In Seconds Uncapped':'tripduration'})\n",
    "data=data.rename(columns={'User Type':'usertype'})\n",
    "data=data.rename(columns={'05 - Member Details Member Birthday Year':'birthyear'})"
   ]
  },
  {
   "cell_type": "code",
   "execution_count": 108,
   "id": "33652795",
   "metadata": {},
   "outputs": [
    {
     "data": {
      "text/html": [
       "<div>\n",
       "<style scoped>\n",
       "    .dataframe tbody tr th:only-of-type {\n",
       "        vertical-align: middle;\n",
       "    }\n",
       "\n",
       "    .dataframe tbody tr th {\n",
       "        vertical-align: top;\n",
       "    }\n",
       "\n",
       "    .dataframe thead th {\n",
       "        text-align: right;\n",
       "    }\n",
       "</style>\n",
       "<table border=\"1\" class=\"dataframe\">\n",
       "  <thead>\n",
       "    <tr style=\"text-align: right;\">\n",
       "      <th></th>\n",
       "      <th>tripid</th>\n",
       "      <th>start_time</th>\n",
       "      <th>end_time</th>\n",
       "      <th>bikeid</th>\n",
       "      <th>tripduration</th>\n",
       "      <th>usertype</th>\n",
       "      <th>Member Gender</th>\n",
       "      <th>birthyear</th>\n",
       "    </tr>\n",
       "  </thead>\n",
       "  <tbody>\n",
       "    <tr>\n",
       "      <th>0</th>\n",
       "      <td>22178529</td>\n",
       "      <td>2019-04-01 00:02:22</td>\n",
       "      <td>2019-04-01 00:09:48</td>\n",
       "      <td>6251</td>\n",
       "      <td>446.0</td>\n",
       "      <td>Subscriber</td>\n",
       "      <td>Male</td>\n",
       "      <td>1975.0</td>\n",
       "    </tr>\n",
       "    <tr>\n",
       "      <th>1</th>\n",
       "      <td>22178530</td>\n",
       "      <td>2019-04-01 00:03:02</td>\n",
       "      <td>2019-04-01 00:20:30</td>\n",
       "      <td>6226</td>\n",
       "      <td>1,048.0</td>\n",
       "      <td>Subscriber</td>\n",
       "      <td>Female</td>\n",
       "      <td>1984.0</td>\n",
       "    </tr>\n",
       "    <tr>\n",
       "      <th>2</th>\n",
       "      <td>22178531</td>\n",
       "      <td>2019-04-01 00:11:07</td>\n",
       "      <td>2019-04-01 00:15:19</td>\n",
       "      <td>5649</td>\n",
       "      <td>252.0</td>\n",
       "      <td>Subscriber</td>\n",
       "      <td>Male</td>\n",
       "      <td>1990.0</td>\n",
       "    </tr>\n",
       "    <tr>\n",
       "      <th>3</th>\n",
       "      <td>22178532</td>\n",
       "      <td>2019-04-01 00:13:01</td>\n",
       "      <td>2019-04-01 00:18:58</td>\n",
       "      <td>4151</td>\n",
       "      <td>357.0</td>\n",
       "      <td>Subscriber</td>\n",
       "      <td>Male</td>\n",
       "      <td>1993.0</td>\n",
       "    </tr>\n",
       "    <tr>\n",
       "      <th>4</th>\n",
       "      <td>22178533</td>\n",
       "      <td>2019-04-01 00:19:26</td>\n",
       "      <td>2019-04-01 00:36:13</td>\n",
       "      <td>3270</td>\n",
       "      <td>1,007.0</td>\n",
       "      <td>Subscriber</td>\n",
       "      <td>Male</td>\n",
       "      <td>1992.0</td>\n",
       "    </tr>\n",
       "    <tr>\n",
       "      <th>...</th>\n",
       "      <td>...</td>\n",
       "      <td>...</td>\n",
       "      <td>...</td>\n",
       "      <td>...</td>\n",
       "      <td>...</td>\n",
       "      <td>...</td>\n",
       "      <td>...</td>\n",
       "      <td>...</td>\n",
       "    </tr>\n",
       "    <tr>\n",
       "      <th>1108158</th>\n",
       "      <td>23479383</td>\n",
       "      <td>2019-06-30 23:58:00</td>\n",
       "      <td>2019-07-01 00:20:22</td>\n",
       "      <td>4573</td>\n",
       "      <td>1,342.0</td>\n",
       "      <td>Customer</td>\n",
       "      <td>NaN</td>\n",
       "      <td>NaN</td>\n",
       "    </tr>\n",
       "    <tr>\n",
       "      <th>1108159</th>\n",
       "      <td>23479384</td>\n",
       "      <td>2019-06-30 23:58:04</td>\n",
       "      <td>2019-07-01 00:14:17</td>\n",
       "      <td>6301</td>\n",
       "      <td>973.0</td>\n",
       "      <td>Subscriber</td>\n",
       "      <td>Male</td>\n",
       "      <td>1980.0</td>\n",
       "    </tr>\n",
       "    <tr>\n",
       "      <th>1108160</th>\n",
       "      <td>23479385</td>\n",
       "      <td>2019-06-30 23:58:20</td>\n",
       "      <td>2019-07-01 00:25:51</td>\n",
       "      <td>4472</td>\n",
       "      <td>1,651.0</td>\n",
       "      <td>Subscriber</td>\n",
       "      <td>Female</td>\n",
       "      <td>1991.0</td>\n",
       "    </tr>\n",
       "    <tr>\n",
       "      <th>1108161</th>\n",
       "      <td>23479386</td>\n",
       "      <td>2019-06-30 23:58:52</td>\n",
       "      <td>2019-07-01 00:11:24</td>\n",
       "      <td>5021</td>\n",
       "      <td>752.0</td>\n",
       "      <td>Subscriber</td>\n",
       "      <td>Male</td>\n",
       "      <td>1992.0</td>\n",
       "    </tr>\n",
       "    <tr>\n",
       "      <th>1108162</th>\n",
       "      <td>23479387</td>\n",
       "      <td>2019-06-30 23:59:05</td>\n",
       "      <td>2019-07-01 00:26:14</td>\n",
       "      <td>4749</td>\n",
       "      <td>1,629.0</td>\n",
       "      <td>Subscriber</td>\n",
       "      <td>Male</td>\n",
       "      <td>1987.0</td>\n",
       "    </tr>\n",
       "  </tbody>\n",
       "</table>\n",
       "<p>1108163 rows × 8 columns</p>\n",
       "</div>"
      ],
      "text/plain": [
       "           tripid           start_time             end_time  bikeid  \\\n",
       "0        22178529  2019-04-01 00:02:22  2019-04-01 00:09:48    6251   \n",
       "1        22178530  2019-04-01 00:03:02  2019-04-01 00:20:30    6226   \n",
       "2        22178531  2019-04-01 00:11:07  2019-04-01 00:15:19    5649   \n",
       "3        22178532  2019-04-01 00:13:01  2019-04-01 00:18:58    4151   \n",
       "4        22178533  2019-04-01 00:19:26  2019-04-01 00:36:13    3270   \n",
       "...           ...                  ...                  ...     ...   \n",
       "1108158  23479383  2019-06-30 23:58:00  2019-07-01 00:20:22    4573   \n",
       "1108159  23479384  2019-06-30 23:58:04  2019-07-01 00:14:17    6301   \n",
       "1108160  23479385  2019-06-30 23:58:20  2019-07-01 00:25:51    4472   \n",
       "1108161  23479386  2019-06-30 23:58:52  2019-07-01 00:11:24    5021   \n",
       "1108162  23479387  2019-06-30 23:59:05  2019-07-01 00:26:14    4749   \n",
       "\n",
       "        tripduration    usertype Member Gender  birthyear  \n",
       "0              446.0  Subscriber          Male     1975.0  \n",
       "1            1,048.0  Subscriber        Female     1984.0  \n",
       "2              252.0  Subscriber          Male     1990.0  \n",
       "3              357.0  Subscriber          Male     1993.0  \n",
       "4            1,007.0  Subscriber          Male     1992.0  \n",
       "...              ...         ...           ...        ...  \n",
       "1108158      1,342.0    Customer           NaN        NaN  \n",
       "1108159        973.0  Subscriber          Male     1980.0  \n",
       "1108160      1,651.0  Subscriber        Female     1991.0  \n",
       "1108161        752.0  Subscriber          Male     1992.0  \n",
       "1108162      1,629.0  Subscriber          Male     1987.0  \n",
       "\n",
       "[1108163 rows x 8 columns]"
      ]
     },
     "execution_count": 108,
     "metadata": {},
     "output_type": "execute_result"
    }
   ],
   "source": [
    "data"
   ]
  },
  {
   "cell_type": "code",
   "execution_count": 15,
   "id": "3c0d4c80",
   "metadata": {},
   "outputs": [
    {
     "data": {
      "text/plain": [
       "Index(['tripid', 'start_time', 'end_time', 'bikeid', 'tripduration',\n",
       "       'usertype', 'Member Gender', 'birthyear'],\n",
       "      dtype='object')"
      ]
     },
     "execution_count": 15,
     "metadata": {},
     "output_type": "execute_result"
    }
   ],
   "source": [
    "df.columns"
   ]
  },
  {
   "cell_type": "code",
   "execution_count": 109,
   "id": "1e88d647",
   "metadata": {},
   "outputs": [],
   "source": [
    "data=data.rename(columns={'Member Gender':'gender'})"
   ]
  },
  {
   "cell_type": "code",
   "execution_count": 17,
   "id": "cb515233",
   "metadata": {},
   "outputs": [
    {
     "data": {
      "text/plain": [
       "Index(['tripid', 'start_time', 'end_time', 'bikeid', 'tripduration',\n",
       "       'usertype', 'gender', 'birthyear'],\n",
       "      dtype='object')"
      ]
     },
     "execution_count": 17,
     "metadata": {},
     "output_type": "execute_result"
    }
   ],
   "source": [
    "df.columns"
   ]
  },
  {
   "cell_type": "code",
   "execution_count": 110,
   "id": "553ba3f4",
   "metadata": {},
   "outputs": [
    {
     "data": {
      "text/html": [
       "<div>\n",
       "<style scoped>\n",
       "    .dataframe tbody tr th:only-of-type {\n",
       "        vertical-align: middle;\n",
       "    }\n",
       "\n",
       "    .dataframe tbody tr th {\n",
       "        vertical-align: top;\n",
       "    }\n",
       "\n",
       "    .dataframe thead th {\n",
       "        text-align: right;\n",
       "    }\n",
       "</style>\n",
       "<table border=\"1\" class=\"dataframe\">\n",
       "  <thead>\n",
       "    <tr style=\"text-align: right;\">\n",
       "      <th></th>\n",
       "      <th>tripid</th>\n",
       "      <th>start_time</th>\n",
       "      <th>end_time</th>\n",
       "      <th>bikeid</th>\n",
       "      <th>tripduration</th>\n",
       "      <th>usertype</th>\n",
       "      <th>gender</th>\n",
       "      <th>birthyear</th>\n",
       "    </tr>\n",
       "  </thead>\n",
       "  <tbody>\n",
       "    <tr>\n",
       "      <th>0</th>\n",
       "      <td>22178529</td>\n",
       "      <td>2019-04-01 00:02:22</td>\n",
       "      <td>2019-04-01 00:09:48</td>\n",
       "      <td>6251</td>\n",
       "      <td>446.0</td>\n",
       "      <td>Subscriber</td>\n",
       "      <td>Male</td>\n",
       "      <td>1975.0</td>\n",
       "    </tr>\n",
       "    <tr>\n",
       "      <th>1</th>\n",
       "      <td>22178530</td>\n",
       "      <td>2019-04-01 00:03:02</td>\n",
       "      <td>2019-04-01 00:20:30</td>\n",
       "      <td>6226</td>\n",
       "      <td>1,048.0</td>\n",
       "      <td>Subscriber</td>\n",
       "      <td>Female</td>\n",
       "      <td>1984.0</td>\n",
       "    </tr>\n",
       "    <tr>\n",
       "      <th>2</th>\n",
       "      <td>22178531</td>\n",
       "      <td>2019-04-01 00:11:07</td>\n",
       "      <td>2019-04-01 00:15:19</td>\n",
       "      <td>5649</td>\n",
       "      <td>252.0</td>\n",
       "      <td>Subscriber</td>\n",
       "      <td>Male</td>\n",
       "      <td>1990.0</td>\n",
       "    </tr>\n",
       "    <tr>\n",
       "      <th>3</th>\n",
       "      <td>22178532</td>\n",
       "      <td>2019-04-01 00:13:01</td>\n",
       "      <td>2019-04-01 00:18:58</td>\n",
       "      <td>4151</td>\n",
       "      <td>357.0</td>\n",
       "      <td>Subscriber</td>\n",
       "      <td>Male</td>\n",
       "      <td>1993.0</td>\n",
       "    </tr>\n",
       "    <tr>\n",
       "      <th>4</th>\n",
       "      <td>22178533</td>\n",
       "      <td>2019-04-01 00:19:26</td>\n",
       "      <td>2019-04-01 00:36:13</td>\n",
       "      <td>3270</td>\n",
       "      <td>1,007.0</td>\n",
       "      <td>Subscriber</td>\n",
       "      <td>Male</td>\n",
       "      <td>1992.0</td>\n",
       "    </tr>\n",
       "    <tr>\n",
       "      <th>...</th>\n",
       "      <td>...</td>\n",
       "      <td>...</td>\n",
       "      <td>...</td>\n",
       "      <td>...</td>\n",
       "      <td>...</td>\n",
       "      <td>...</td>\n",
       "      <td>...</td>\n",
       "      <td>...</td>\n",
       "    </tr>\n",
       "    <tr>\n",
       "      <th>1108158</th>\n",
       "      <td>23479383</td>\n",
       "      <td>2019-06-30 23:58:00</td>\n",
       "      <td>2019-07-01 00:20:22</td>\n",
       "      <td>4573</td>\n",
       "      <td>1,342.0</td>\n",
       "      <td>Customer</td>\n",
       "      <td>NaN</td>\n",
       "      <td>NaN</td>\n",
       "    </tr>\n",
       "    <tr>\n",
       "      <th>1108159</th>\n",
       "      <td>23479384</td>\n",
       "      <td>2019-06-30 23:58:04</td>\n",
       "      <td>2019-07-01 00:14:17</td>\n",
       "      <td>6301</td>\n",
       "      <td>973.0</td>\n",
       "      <td>Subscriber</td>\n",
       "      <td>Male</td>\n",
       "      <td>1980.0</td>\n",
       "    </tr>\n",
       "    <tr>\n",
       "      <th>1108160</th>\n",
       "      <td>23479385</td>\n",
       "      <td>2019-06-30 23:58:20</td>\n",
       "      <td>2019-07-01 00:25:51</td>\n",
       "      <td>4472</td>\n",
       "      <td>1,651.0</td>\n",
       "      <td>Subscriber</td>\n",
       "      <td>Female</td>\n",
       "      <td>1991.0</td>\n",
       "    </tr>\n",
       "    <tr>\n",
       "      <th>1108161</th>\n",
       "      <td>23479386</td>\n",
       "      <td>2019-06-30 23:58:52</td>\n",
       "      <td>2019-07-01 00:11:24</td>\n",
       "      <td>5021</td>\n",
       "      <td>752.0</td>\n",
       "      <td>Subscriber</td>\n",
       "      <td>Male</td>\n",
       "      <td>1992.0</td>\n",
       "    </tr>\n",
       "    <tr>\n",
       "      <th>1108162</th>\n",
       "      <td>23479387</td>\n",
       "      <td>2019-06-30 23:59:05</td>\n",
       "      <td>2019-07-01 00:26:14</td>\n",
       "      <td>4749</td>\n",
       "      <td>1,629.0</td>\n",
       "      <td>Subscriber</td>\n",
       "      <td>Male</td>\n",
       "      <td>1987.0</td>\n",
       "    </tr>\n",
       "  </tbody>\n",
       "</table>\n",
       "<p>1108163 rows × 8 columns</p>\n",
       "</div>"
      ],
      "text/plain": [
       "           tripid           start_time             end_time  bikeid  \\\n",
       "0        22178529  2019-04-01 00:02:22  2019-04-01 00:09:48    6251   \n",
       "1        22178530  2019-04-01 00:03:02  2019-04-01 00:20:30    6226   \n",
       "2        22178531  2019-04-01 00:11:07  2019-04-01 00:15:19    5649   \n",
       "3        22178532  2019-04-01 00:13:01  2019-04-01 00:18:58    4151   \n",
       "4        22178533  2019-04-01 00:19:26  2019-04-01 00:36:13    3270   \n",
       "...           ...                  ...                  ...     ...   \n",
       "1108158  23479383  2019-06-30 23:58:00  2019-07-01 00:20:22    4573   \n",
       "1108159  23479384  2019-06-30 23:58:04  2019-07-01 00:14:17    6301   \n",
       "1108160  23479385  2019-06-30 23:58:20  2019-07-01 00:25:51    4472   \n",
       "1108161  23479386  2019-06-30 23:58:52  2019-07-01 00:11:24    5021   \n",
       "1108162  23479387  2019-06-30 23:59:05  2019-07-01 00:26:14    4749   \n",
       "\n",
       "        tripduration    usertype  gender  birthyear  \n",
       "0              446.0  Subscriber    Male     1975.0  \n",
       "1            1,048.0  Subscriber  Female     1984.0  \n",
       "2              252.0  Subscriber    Male     1990.0  \n",
       "3              357.0  Subscriber    Male     1993.0  \n",
       "4            1,007.0  Subscriber    Male     1992.0  \n",
       "...              ...         ...     ...        ...  \n",
       "1108158      1,342.0    Customer     NaN        NaN  \n",
       "1108159        973.0  Subscriber    Male     1980.0  \n",
       "1108160      1,651.0  Subscriber  Female     1991.0  \n",
       "1108161        752.0  Subscriber    Male     1992.0  \n",
       "1108162      1,629.0  Subscriber    Male     1987.0  \n",
       "\n",
       "[1108163 rows x 8 columns]"
      ]
     },
     "execution_count": 110,
     "metadata": {},
     "output_type": "execute_result"
    }
   ],
   "source": [
    "data"
   ]
  },
  {
   "cell_type": "code",
   "execution_count": 111,
   "id": "fcd9dc6b",
   "metadata": {},
   "outputs": [
    {
     "data": {
      "text/plain": [
       "0         2019-04-01 00:02:22\n",
       "1         2019-04-01 00:03:02\n",
       "2         2019-04-01 00:11:07\n",
       "3         2019-04-01 00:13:01\n",
       "4         2019-04-01 00:19:26\n",
       "                  ...        \n",
       "1108158   2019-06-30 23:58:00\n",
       "1108159   2019-06-30 23:58:04\n",
       "1108160   2019-06-30 23:58:20\n",
       "1108161   2019-06-30 23:58:52\n",
       "1108162   2019-06-30 23:59:05\n",
       "Name: start_time, Length: 1108163, dtype: datetime64[ns]"
      ]
     },
     "execution_count": 111,
     "metadata": {},
     "output_type": "execute_result"
    }
   ],
   "source": [
    "pd.to_datetime(data['start_time'])"
   ]
  },
  {
   "cell_type": "code",
   "execution_count": 112,
   "id": "d48a4e5b",
   "metadata": {},
   "outputs": [],
   "source": [
    "data['start_time']=pd.to_datetime(data['start_time'])"
   ]
  },
  {
   "cell_type": "code",
   "execution_count": 113,
   "id": "4f13a0fb",
   "metadata": {},
   "outputs": [
    {
     "data": {
      "text/plain": [
       "0         2019-04-01 00:09:48\n",
       "1         2019-04-01 00:20:30\n",
       "2         2019-04-01 00:15:19\n",
       "3         2019-04-01 00:18:58\n",
       "4         2019-04-01 00:36:13\n",
       "                  ...        \n",
       "1108158   2019-07-01 00:20:22\n",
       "1108159   2019-07-01 00:14:17\n",
       "1108160   2019-07-01 00:25:51\n",
       "1108161   2019-07-01 00:11:24\n",
       "1108162   2019-07-01 00:26:14\n",
       "Name: end_time, Length: 1108163, dtype: datetime64[ns]"
      ]
     },
     "execution_count": 113,
     "metadata": {},
     "output_type": "execute_result"
    }
   ],
   "source": [
    "pd.to_datetime(data['end_time'])"
   ]
  },
  {
   "cell_type": "code",
   "execution_count": 114,
   "id": "15a576ae",
   "metadata": {},
   "outputs": [],
   "source": [
    "data['end_time']=pd.to_datetime(data['end_time'])"
   ]
  },
  {
   "cell_type": "code",
   "execution_count": 115,
   "id": "9f2c9d1a",
   "metadata": {},
   "outputs": [
    {
     "data": {
      "text/plain": [
       "tripid                   int64\n",
       "start_time      datetime64[ns]\n",
       "end_time        datetime64[ns]\n",
       "bikeid                   int64\n",
       "tripduration            object\n",
       "usertype                object\n",
       "gender                  object\n",
       "birthyear              float64\n",
       "dtype: object"
      ]
     },
     "execution_count": 115,
     "metadata": {},
     "output_type": "execute_result"
    }
   ],
   "source": [
    "data.dtypes"
   ]
  },
  {
   "cell_type": "code",
   "execution_count": 26,
   "id": "156b6124",
   "metadata": {
    "scrolled": true
   },
   "outputs": [
    {
     "ename": "ValueError",
     "evalue": "could not convert string to float: '1,048.0'",
     "output_type": "error",
     "traceback": [
      "\u001b[1;31m---------------------------------------------------------------------------\u001b[0m",
      "\u001b[1;31mValueError\u001b[0m                                Traceback (most recent call last)",
      "Cell \u001b[1;32mIn[26], line 1\u001b[0m\n\u001b[1;32m----> 1\u001b[0m df\u001b[38;5;241m.\u001b[39mtripduration\u001b[38;5;241m.\u001b[39mastype(\u001b[38;5;28mfloat\u001b[39m)\n",
      "File \u001b[1;32m~\\anaconda3\\Lib\\site-packages\\pandas\\core\\generic.py:6240\u001b[0m, in \u001b[0;36mNDFrame.astype\u001b[1;34m(self, dtype, copy, errors)\u001b[0m\n\u001b[0;32m   6233\u001b[0m     results \u001b[38;5;241m=\u001b[39m [\n\u001b[0;32m   6234\u001b[0m         \u001b[38;5;28mself\u001b[39m\u001b[38;5;241m.\u001b[39miloc[:, i]\u001b[38;5;241m.\u001b[39mastype(dtype, copy\u001b[38;5;241m=\u001b[39mcopy)\n\u001b[0;32m   6235\u001b[0m         \u001b[38;5;28;01mfor\u001b[39;00m i \u001b[38;5;129;01min\u001b[39;00m \u001b[38;5;28mrange\u001b[39m(\u001b[38;5;28mlen\u001b[39m(\u001b[38;5;28mself\u001b[39m\u001b[38;5;241m.\u001b[39mcolumns))\n\u001b[0;32m   6236\u001b[0m     ]\n\u001b[0;32m   6238\u001b[0m \u001b[38;5;28;01melse\u001b[39;00m:\n\u001b[0;32m   6239\u001b[0m     \u001b[38;5;66;03m# else, only a single dtype is given\u001b[39;00m\n\u001b[1;32m-> 6240\u001b[0m     new_data \u001b[38;5;241m=\u001b[39m \u001b[38;5;28mself\u001b[39m\u001b[38;5;241m.\u001b[39m_mgr\u001b[38;5;241m.\u001b[39mastype(dtype\u001b[38;5;241m=\u001b[39mdtype, copy\u001b[38;5;241m=\u001b[39mcopy, errors\u001b[38;5;241m=\u001b[39merrors)\n\u001b[0;32m   6241\u001b[0m     \u001b[38;5;28;01mreturn\u001b[39;00m \u001b[38;5;28mself\u001b[39m\u001b[38;5;241m.\u001b[39m_constructor(new_data)\u001b[38;5;241m.\u001b[39m__finalize__(\u001b[38;5;28mself\u001b[39m, method\u001b[38;5;241m=\u001b[39m\u001b[38;5;124m\"\u001b[39m\u001b[38;5;124mastype\u001b[39m\u001b[38;5;124m\"\u001b[39m)\n\u001b[0;32m   6243\u001b[0m \u001b[38;5;66;03m# GH 33113: handle empty frame or series\u001b[39;00m\n",
      "File \u001b[1;32m~\\anaconda3\\Lib\\site-packages\\pandas\\core\\internals\\managers.py:448\u001b[0m, in \u001b[0;36mBaseBlockManager.astype\u001b[1;34m(self, dtype, copy, errors)\u001b[0m\n\u001b[0;32m    447\u001b[0m \u001b[38;5;28;01mdef\u001b[39;00m \u001b[38;5;21mastype\u001b[39m(\u001b[38;5;28mself\u001b[39m: T, dtype, copy: \u001b[38;5;28mbool\u001b[39m \u001b[38;5;241m=\u001b[39m \u001b[38;5;28;01mFalse\u001b[39;00m, errors: \u001b[38;5;28mstr\u001b[39m \u001b[38;5;241m=\u001b[39m \u001b[38;5;124m\"\u001b[39m\u001b[38;5;124mraise\u001b[39m\u001b[38;5;124m\"\u001b[39m) \u001b[38;5;241m-\u001b[39m\u001b[38;5;241m>\u001b[39m T:\n\u001b[1;32m--> 448\u001b[0m     \u001b[38;5;28;01mreturn\u001b[39;00m \u001b[38;5;28mself\u001b[39m\u001b[38;5;241m.\u001b[39mapply(\u001b[38;5;124m\"\u001b[39m\u001b[38;5;124mastype\u001b[39m\u001b[38;5;124m\"\u001b[39m, dtype\u001b[38;5;241m=\u001b[39mdtype, copy\u001b[38;5;241m=\u001b[39mcopy, errors\u001b[38;5;241m=\u001b[39merrors)\n",
      "File \u001b[1;32m~\\anaconda3\\Lib\\site-packages\\pandas\\core\\internals\\managers.py:352\u001b[0m, in \u001b[0;36mBaseBlockManager.apply\u001b[1;34m(self, f, align_keys, ignore_failures, **kwargs)\u001b[0m\n\u001b[0;32m    350\u001b[0m         applied \u001b[38;5;241m=\u001b[39m b\u001b[38;5;241m.\u001b[39mapply(f, \u001b[38;5;241m*\u001b[39m\u001b[38;5;241m*\u001b[39mkwargs)\n\u001b[0;32m    351\u001b[0m     \u001b[38;5;28;01melse\u001b[39;00m:\n\u001b[1;32m--> 352\u001b[0m         applied \u001b[38;5;241m=\u001b[39m \u001b[38;5;28mgetattr\u001b[39m(b, f)(\u001b[38;5;241m*\u001b[39m\u001b[38;5;241m*\u001b[39mkwargs)\n\u001b[0;32m    353\u001b[0m \u001b[38;5;28;01mexcept\u001b[39;00m (\u001b[38;5;167;01mTypeError\u001b[39;00m, \u001b[38;5;167;01mNotImplementedError\u001b[39;00m):\n\u001b[0;32m    354\u001b[0m     \u001b[38;5;28;01mif\u001b[39;00m \u001b[38;5;129;01mnot\u001b[39;00m ignore_failures:\n",
      "File \u001b[1;32m~\\anaconda3\\Lib\\site-packages\\pandas\\core\\internals\\blocks.py:526\u001b[0m, in \u001b[0;36mBlock.astype\u001b[1;34m(self, dtype, copy, errors)\u001b[0m\n\u001b[0;32m    508\u001b[0m \u001b[38;5;250m\u001b[39m\u001b[38;5;124;03m\"\"\"\u001b[39;00m\n\u001b[0;32m    509\u001b[0m \u001b[38;5;124;03mCoerce to the new dtype.\u001b[39;00m\n\u001b[0;32m    510\u001b[0m \n\u001b[1;32m   (...)\u001b[0m\n\u001b[0;32m    522\u001b[0m \u001b[38;5;124;03mBlock\u001b[39;00m\n\u001b[0;32m    523\u001b[0m \u001b[38;5;124;03m\"\"\"\u001b[39;00m\n\u001b[0;32m    524\u001b[0m values \u001b[38;5;241m=\u001b[39m \u001b[38;5;28mself\u001b[39m\u001b[38;5;241m.\u001b[39mvalues\n\u001b[1;32m--> 526\u001b[0m new_values \u001b[38;5;241m=\u001b[39m astype_array_safe(values, dtype, copy\u001b[38;5;241m=\u001b[39mcopy, errors\u001b[38;5;241m=\u001b[39merrors)\n\u001b[0;32m    528\u001b[0m new_values \u001b[38;5;241m=\u001b[39m maybe_coerce_values(new_values)\n\u001b[0;32m    529\u001b[0m newb \u001b[38;5;241m=\u001b[39m \u001b[38;5;28mself\u001b[39m\u001b[38;5;241m.\u001b[39mmake_block(new_values)\n",
      "File \u001b[1;32m~\\anaconda3\\Lib\\site-packages\\pandas\\core\\dtypes\\astype.py:299\u001b[0m, in \u001b[0;36mastype_array_safe\u001b[1;34m(values, dtype, copy, errors)\u001b[0m\n\u001b[0;32m    296\u001b[0m     \u001b[38;5;28;01mreturn\u001b[39;00m values\u001b[38;5;241m.\u001b[39mcopy()\n\u001b[0;32m    298\u001b[0m \u001b[38;5;28;01mtry\u001b[39;00m:\n\u001b[1;32m--> 299\u001b[0m     new_values \u001b[38;5;241m=\u001b[39m astype_array(values, dtype, copy\u001b[38;5;241m=\u001b[39mcopy)\n\u001b[0;32m    300\u001b[0m \u001b[38;5;28;01mexcept\u001b[39;00m (\u001b[38;5;167;01mValueError\u001b[39;00m, \u001b[38;5;167;01mTypeError\u001b[39;00m):\n\u001b[0;32m    301\u001b[0m     \u001b[38;5;66;03m# e.g. astype_nansafe can fail on object-dtype of strings\u001b[39;00m\n\u001b[0;32m    302\u001b[0m     \u001b[38;5;66;03m#  trying to convert to float\u001b[39;00m\n\u001b[0;32m    303\u001b[0m     \u001b[38;5;28;01mif\u001b[39;00m errors \u001b[38;5;241m==\u001b[39m \u001b[38;5;124m\"\u001b[39m\u001b[38;5;124mignore\u001b[39m\u001b[38;5;124m\"\u001b[39m:\n",
      "File \u001b[1;32m~\\anaconda3\\Lib\\site-packages\\pandas\\core\\dtypes\\astype.py:230\u001b[0m, in \u001b[0;36mastype_array\u001b[1;34m(values, dtype, copy)\u001b[0m\n\u001b[0;32m    227\u001b[0m     values \u001b[38;5;241m=\u001b[39m values\u001b[38;5;241m.\u001b[39mastype(dtype, copy\u001b[38;5;241m=\u001b[39mcopy)\n\u001b[0;32m    229\u001b[0m \u001b[38;5;28;01melse\u001b[39;00m:\n\u001b[1;32m--> 230\u001b[0m     values \u001b[38;5;241m=\u001b[39m astype_nansafe(values, dtype, copy\u001b[38;5;241m=\u001b[39mcopy)\n\u001b[0;32m    232\u001b[0m \u001b[38;5;66;03m# in pandas we don't store numpy str dtypes, so convert to object\u001b[39;00m\n\u001b[0;32m    233\u001b[0m \u001b[38;5;28;01mif\u001b[39;00m \u001b[38;5;28misinstance\u001b[39m(dtype, np\u001b[38;5;241m.\u001b[39mdtype) \u001b[38;5;129;01mand\u001b[39;00m \u001b[38;5;28missubclass\u001b[39m(values\u001b[38;5;241m.\u001b[39mdtype\u001b[38;5;241m.\u001b[39mtype, \u001b[38;5;28mstr\u001b[39m):\n",
      "File \u001b[1;32m~\\anaconda3\\Lib\\site-packages\\pandas\\core\\dtypes\\astype.py:170\u001b[0m, in \u001b[0;36mastype_nansafe\u001b[1;34m(arr, dtype, copy, skipna)\u001b[0m\n\u001b[0;32m    166\u001b[0m     \u001b[38;5;28;01mraise\u001b[39;00m \u001b[38;5;167;01mValueError\u001b[39;00m(msg)\n\u001b[0;32m    168\u001b[0m \u001b[38;5;28;01mif\u001b[39;00m copy \u001b[38;5;129;01mor\u001b[39;00m is_object_dtype(arr\u001b[38;5;241m.\u001b[39mdtype) \u001b[38;5;129;01mor\u001b[39;00m is_object_dtype(dtype):\n\u001b[0;32m    169\u001b[0m     \u001b[38;5;66;03m# Explicit copy, or required since NumPy can't view from / to object.\u001b[39;00m\n\u001b[1;32m--> 170\u001b[0m     \u001b[38;5;28;01mreturn\u001b[39;00m arr\u001b[38;5;241m.\u001b[39mastype(dtype, copy\u001b[38;5;241m=\u001b[39m\u001b[38;5;28;01mTrue\u001b[39;00m)\n\u001b[0;32m    172\u001b[0m \u001b[38;5;28;01mreturn\u001b[39;00m arr\u001b[38;5;241m.\u001b[39mastype(dtype, copy\u001b[38;5;241m=\u001b[39mcopy)\n",
      "\u001b[1;31mValueError\u001b[0m: could not convert string to float: '1,048.0'"
     ]
    }
   ],
   "source": [
    "df.tripduration.astype(float)"
   ]
  },
  {
   "cell_type": "code",
   "execution_count": 28,
   "id": "0b175e7f",
   "metadata": {},
   "outputs": [],
   "source": [
    "df['tripduration']=df.tripduration.str.replace(',','')"
   ]
  },
  {
   "cell_type": "code",
   "execution_count": 36,
   "id": "8800eec2",
   "metadata": {},
   "outputs": [],
   "source": [
    "df['tripduration']=df.tripduration.astype(float)"
   ]
  },
  {
   "cell_type": "code",
   "execution_count": 31,
   "id": "39f362fe",
   "metadata": {},
   "outputs": [
    {
     "name": "stderr",
     "output_type": "stream",
     "text": [
      "C:\\Users\\Ahmed\\AppData\\Local\\Temp\\ipykernel_15504\\590939281.py:1: FutureWarning: The default value of regex will change from True to False in a future version. In addition, single character regular expressions will *not* be treated as literal strings when regex=True.\n",
      "  df.tripduration.str.replace('.','')\n"
     ]
    },
    {
     "data": {
      "text/plain": [
       "0           4460\n",
       "1          10480\n",
       "2           2520\n",
       "3           3570\n",
       "4          10070\n",
       "           ...  \n",
       "1108158    13420\n",
       "1108159     9730\n",
       "1108160    16510\n",
       "1108161     7520\n",
       "1108162    16290\n",
       "Name: tripduration, Length: 1108163, dtype: object"
      ]
     },
     "execution_count": 31,
     "metadata": {},
     "output_type": "execute_result"
    }
   ],
   "source": [
    "df.tripduration.float.replace('.','')"
   ]
  },
  {
   "cell_type": "code",
   "execution_count": 34,
   "id": "d8cc16c4",
   "metadata": {
    "scrolled": true
   },
   "outputs": [
    {
     "ename": "TypeError",
     "evalue": "unsupported operand type(s) for /: 'str' and 'int'",
     "output_type": "error",
     "traceback": [
      "\u001b[1;31m---------------------------------------------------------------------------\u001b[0m",
      "\u001b[1;31mTypeError\u001b[0m                                 Traceback (most recent call last)",
      "File \u001b[1;32m~\\anaconda3\\Lib\\site-packages\\pandas\\core\\ops\\array_ops.py:165\u001b[0m, in \u001b[0;36m_na_arithmetic_op\u001b[1;34m(left, right, op, is_cmp)\u001b[0m\n\u001b[0;32m    164\u001b[0m \u001b[38;5;28;01mtry\u001b[39;00m:\n\u001b[1;32m--> 165\u001b[0m     result \u001b[38;5;241m=\u001b[39m func(left, right)\n\u001b[0;32m    166\u001b[0m \u001b[38;5;28;01mexcept\u001b[39;00m \u001b[38;5;167;01mTypeError\u001b[39;00m:\n",
      "File \u001b[1;32m~\\anaconda3\\Lib\\site-packages\\pandas\\core\\computation\\expressions.py:241\u001b[0m, in \u001b[0;36mevaluate\u001b[1;34m(op, a, b, use_numexpr)\u001b[0m\n\u001b[0;32m    239\u001b[0m     \u001b[38;5;28;01mif\u001b[39;00m use_numexpr:\n\u001b[0;32m    240\u001b[0m         \u001b[38;5;66;03m# error: \"None\" not callable\u001b[39;00m\n\u001b[1;32m--> 241\u001b[0m         \u001b[38;5;28;01mreturn\u001b[39;00m _evaluate(op, op_str, a, b)  \u001b[38;5;66;03m# type: ignore[misc]\u001b[39;00m\n\u001b[0;32m    242\u001b[0m \u001b[38;5;28;01mreturn\u001b[39;00m _evaluate_standard(op, op_str, a, b)\n",
      "File \u001b[1;32m~\\anaconda3\\Lib\\site-packages\\pandas\\core\\computation\\expressions.py:129\u001b[0m, in \u001b[0;36m_evaluate_numexpr\u001b[1;34m(op, op_str, a, b)\u001b[0m\n\u001b[0;32m    128\u001b[0m \u001b[38;5;28;01mif\u001b[39;00m result \u001b[38;5;129;01mis\u001b[39;00m \u001b[38;5;28;01mNone\u001b[39;00m:\n\u001b[1;32m--> 129\u001b[0m     result \u001b[38;5;241m=\u001b[39m _evaluate_standard(op, op_str, a, b)\n\u001b[0;32m    131\u001b[0m \u001b[38;5;28;01mreturn\u001b[39;00m result\n",
      "File \u001b[1;32m~\\anaconda3\\Lib\\site-packages\\pandas\\core\\computation\\expressions.py:70\u001b[0m, in \u001b[0;36m_evaluate_standard\u001b[1;34m(op, op_str, a, b)\u001b[0m\n\u001b[0;32m     69\u001b[0m     _store_test_result(\u001b[38;5;28;01mFalse\u001b[39;00m)\n\u001b[1;32m---> 70\u001b[0m \u001b[38;5;28;01mreturn\u001b[39;00m op(a, b)\n",
      "\u001b[1;31mTypeError\u001b[0m: unsupported operand type(s) for /: 'str' and 'int'",
      "\nDuring handling of the above exception, another exception occurred:\n",
      "\u001b[1;31mTypeError\u001b[0m                                 Traceback (most recent call last)",
      "Cell \u001b[1;32mIn[34], line 1\u001b[0m\n\u001b[1;32m----> 1\u001b[0m df[\u001b[38;5;124m'\u001b[39m\u001b[38;5;124mtripduration\u001b[39m\u001b[38;5;124m'\u001b[39m]\u001b[38;5;241m/\u001b[39m\u001b[38;5;241m10\u001b[39m\n",
      "File \u001b[1;32m~\\anaconda3\\Lib\\site-packages\\pandas\\core\\ops\\common.py:72\u001b[0m, in \u001b[0;36m_unpack_zerodim_and_defer.<locals>.new_method\u001b[1;34m(self, other)\u001b[0m\n\u001b[0;32m     68\u001b[0m             \u001b[38;5;28;01mreturn\u001b[39;00m \u001b[38;5;28mNotImplemented\u001b[39m\n\u001b[0;32m     70\u001b[0m other \u001b[38;5;241m=\u001b[39m item_from_zerodim(other)\n\u001b[1;32m---> 72\u001b[0m \u001b[38;5;28;01mreturn\u001b[39;00m method(\u001b[38;5;28mself\u001b[39m, other)\n",
      "File \u001b[1;32m~\\anaconda3\\Lib\\site-packages\\pandas\\core\\arraylike.py:126\u001b[0m, in \u001b[0;36mOpsMixin.__truediv__\u001b[1;34m(self, other)\u001b[0m\n\u001b[0;32m    124\u001b[0m \u001b[38;5;129m@unpack_zerodim_and_defer\u001b[39m(\u001b[38;5;124m\"\u001b[39m\u001b[38;5;124m__truediv__\u001b[39m\u001b[38;5;124m\"\u001b[39m)\n\u001b[0;32m    125\u001b[0m \u001b[38;5;28;01mdef\u001b[39;00m \u001b[38;5;21m__truediv__\u001b[39m(\u001b[38;5;28mself\u001b[39m, other):\n\u001b[1;32m--> 126\u001b[0m     \u001b[38;5;28;01mreturn\u001b[39;00m \u001b[38;5;28mself\u001b[39m\u001b[38;5;241m.\u001b[39m_arith_method(other, operator\u001b[38;5;241m.\u001b[39mtruediv)\n",
      "File \u001b[1;32m~\\anaconda3\\Lib\\site-packages\\pandas\\core\\series.py:6259\u001b[0m, in \u001b[0;36mSeries._arith_method\u001b[1;34m(self, other, op)\u001b[0m\n\u001b[0;32m   6257\u001b[0m \u001b[38;5;28;01mdef\u001b[39;00m \u001b[38;5;21m_arith_method\u001b[39m(\u001b[38;5;28mself\u001b[39m, other, op):\n\u001b[0;32m   6258\u001b[0m     \u001b[38;5;28mself\u001b[39m, other \u001b[38;5;241m=\u001b[39m ops\u001b[38;5;241m.\u001b[39malign_method_SERIES(\u001b[38;5;28mself\u001b[39m, other)\n\u001b[1;32m-> 6259\u001b[0m     \u001b[38;5;28;01mreturn\u001b[39;00m base\u001b[38;5;241m.\u001b[39mIndexOpsMixin\u001b[38;5;241m.\u001b[39m_arith_method(\u001b[38;5;28mself\u001b[39m, other, op)\n",
      "File \u001b[1;32m~\\anaconda3\\Lib\\site-packages\\pandas\\core\\base.py:1325\u001b[0m, in \u001b[0;36mIndexOpsMixin._arith_method\u001b[1;34m(self, other, op)\u001b[0m\n\u001b[0;32m   1322\u001b[0m rvalues \u001b[38;5;241m=\u001b[39m ensure_wrapped_if_datetimelike(rvalues)\n\u001b[0;32m   1324\u001b[0m \u001b[38;5;28;01mwith\u001b[39;00m np\u001b[38;5;241m.\u001b[39merrstate(\u001b[38;5;28mall\u001b[39m\u001b[38;5;241m=\u001b[39m\u001b[38;5;124m\"\u001b[39m\u001b[38;5;124mignore\u001b[39m\u001b[38;5;124m\"\u001b[39m):\n\u001b[1;32m-> 1325\u001b[0m     result \u001b[38;5;241m=\u001b[39m ops\u001b[38;5;241m.\u001b[39marithmetic_op(lvalues, rvalues, op)\n\u001b[0;32m   1327\u001b[0m \u001b[38;5;28;01mreturn\u001b[39;00m \u001b[38;5;28mself\u001b[39m\u001b[38;5;241m.\u001b[39m_construct_result(result, name\u001b[38;5;241m=\u001b[39mres_name)\n",
      "File \u001b[1;32m~\\anaconda3\\Lib\\site-packages\\pandas\\core\\ops\\array_ops.py:226\u001b[0m, in \u001b[0;36marithmetic_op\u001b[1;34m(left, right, op)\u001b[0m\n\u001b[0;32m    222\u001b[0m     _bool_arith_check(op, left, right)\n\u001b[0;32m    224\u001b[0m     \u001b[38;5;66;03m# error: Argument 1 to \"_na_arithmetic_op\" has incompatible type\u001b[39;00m\n\u001b[0;32m    225\u001b[0m     \u001b[38;5;66;03m# \"Union[ExtensionArray, ndarray[Any, Any]]\"; expected \"ndarray[Any, Any]\"\u001b[39;00m\n\u001b[1;32m--> 226\u001b[0m     res_values \u001b[38;5;241m=\u001b[39m _na_arithmetic_op(left, right, op)  \u001b[38;5;66;03m# type: ignore[arg-type]\u001b[39;00m\n\u001b[0;32m    228\u001b[0m \u001b[38;5;28;01mreturn\u001b[39;00m res_values\n",
      "File \u001b[1;32m~\\anaconda3\\Lib\\site-packages\\pandas\\core\\ops\\array_ops.py:172\u001b[0m, in \u001b[0;36m_na_arithmetic_op\u001b[1;34m(left, right, op, is_cmp)\u001b[0m\n\u001b[0;32m    166\u001b[0m \u001b[38;5;28;01mexcept\u001b[39;00m \u001b[38;5;167;01mTypeError\u001b[39;00m:\n\u001b[0;32m    167\u001b[0m     \u001b[38;5;28;01mif\u001b[39;00m \u001b[38;5;129;01mnot\u001b[39;00m is_cmp \u001b[38;5;129;01mand\u001b[39;00m (is_object_dtype(left\u001b[38;5;241m.\u001b[39mdtype) \u001b[38;5;129;01mor\u001b[39;00m is_object_dtype(right)):\n\u001b[0;32m    168\u001b[0m         \u001b[38;5;66;03m# For object dtype, fallback to a masked operation (only operating\u001b[39;00m\n\u001b[0;32m    169\u001b[0m         \u001b[38;5;66;03m#  on the non-missing values)\u001b[39;00m\n\u001b[0;32m    170\u001b[0m         \u001b[38;5;66;03m# Don't do this for comparisons, as that will handle complex numbers\u001b[39;00m\n\u001b[0;32m    171\u001b[0m         \u001b[38;5;66;03m#  incorrectly, see GH#32047\u001b[39;00m\n\u001b[1;32m--> 172\u001b[0m         result \u001b[38;5;241m=\u001b[39m _masked_arith_op(left, right, op)\n\u001b[0;32m    173\u001b[0m     \u001b[38;5;28;01melse\u001b[39;00m:\n\u001b[0;32m    174\u001b[0m         \u001b[38;5;28;01mraise\u001b[39;00m\n",
      "File \u001b[1;32m~\\anaconda3\\Lib\\site-packages\\pandas\\core\\ops\\array_ops.py:129\u001b[0m, in \u001b[0;36m_masked_arith_op\u001b[1;34m(x, y, op)\u001b[0m\n\u001b[0;32m    126\u001b[0m         mask \u001b[38;5;241m=\u001b[39m np\u001b[38;5;241m.\u001b[39mwhere(y \u001b[38;5;241m==\u001b[39m \u001b[38;5;241m1\u001b[39m, \u001b[38;5;28;01mFalse\u001b[39;00m, mask)\n\u001b[0;32m    128\u001b[0m     \u001b[38;5;28;01mif\u001b[39;00m mask\u001b[38;5;241m.\u001b[39many():\n\u001b[1;32m--> 129\u001b[0m         result[mask] \u001b[38;5;241m=\u001b[39m op(xrav[mask], y)\n\u001b[0;32m    131\u001b[0m np\u001b[38;5;241m.\u001b[39mputmask(result, \u001b[38;5;241m~\u001b[39mmask, np\u001b[38;5;241m.\u001b[39mnan)\n\u001b[0;32m    132\u001b[0m result \u001b[38;5;241m=\u001b[39m result\u001b[38;5;241m.\u001b[39mreshape(x\u001b[38;5;241m.\u001b[39mshape)  \u001b[38;5;66;03m# 2D compat\u001b[39;00m\n",
      "\u001b[1;31mTypeError\u001b[0m: unsupported operand type(s) for /: 'str' and 'int'"
     ]
    }
   ],
   "source": [
    "df['tripduration']/10"
   ]
  },
  {
   "cell_type": "code",
   "execution_count": 136,
   "id": "d913afc3",
   "metadata": {},
   "outputs": [],
   "source": [
    "n=data.tripduration.str.replace(',','')"
   ]
  },
  {
   "cell_type": "code",
   "execution_count": 137,
   "id": "f0b1aac1",
   "metadata": {},
   "outputs": [
    {
     "data": {
      "text/plain": [
       "0           446.0\n",
       "1          1048.0\n",
       "2           252.0\n",
       "3           357.0\n",
       "4          1007.0\n",
       "            ...  \n",
       "1108158    1342.0\n",
       "1108159     973.0\n",
       "1108160    1651.0\n",
       "1108161     752.0\n",
       "1108162    1629.0\n",
       "Name: tripduration, Length: 1108163, dtype: object"
      ]
     },
     "execution_count": 137,
     "metadata": {},
     "output_type": "execute_result"
    }
   ],
   "source": [
    "n"
   ]
  },
  {
   "cell_type": "code",
   "execution_count": 139,
   "id": "0a1ce876",
   "metadata": {},
   "outputs": [],
   "source": [
    "x=n.astype(float)"
   ]
  },
  {
   "cell_type": "code",
   "execution_count": 140,
   "id": "6e42f662",
   "metadata": {},
   "outputs": [
    {
     "data": {
      "text/plain": [
       "0           446.0\n",
       "1          1048.0\n",
       "2           252.0\n",
       "3           357.0\n",
       "4          1007.0\n",
       "            ...  \n",
       "1108158    1342.0\n",
       "1108159     973.0\n",
       "1108160    1651.0\n",
       "1108161     752.0\n",
       "1108162    1629.0\n",
       "Name: tripduration, Length: 1108163, dtype: float64"
      ]
     },
     "execution_count": 140,
     "metadata": {},
     "output_type": "execute_result"
    }
   ],
   "source": [
    "x"
   ]
  },
  {
   "cell_type": "code",
   "execution_count": 142,
   "id": "e61412b5",
   "metadata": {
    "scrolled": true
   },
   "outputs": [],
   "source": [
    "data['tripduration']=x"
   ]
  },
  {
   "cell_type": "code",
   "execution_count": 143,
   "id": "a90b8447",
   "metadata": {},
   "outputs": [
    {
     "data": {
      "text/plain": [
       "0           446.0\n",
       "1          1048.0\n",
       "2           252.0\n",
       "3           357.0\n",
       "4          1007.0\n",
       "            ...  \n",
       "1108158    1342.0\n",
       "1108159     973.0\n",
       "1108160    1651.0\n",
       "1108161     752.0\n",
       "1108162    1629.0\n",
       "Name: tripduration, Length: 1108163, dtype: float64"
      ]
     },
     "execution_count": 143,
     "metadata": {},
     "output_type": "execute_result"
    }
   ],
   "source": [
    "data['tripduration']"
   ]
  },
  {
   "cell_type": "code",
   "execution_count": 145,
   "id": "141e6b0e",
   "metadata": {},
   "outputs": [
    {
     "data": {
      "text/plain": [
       "0           7.43\n",
       "1          17.47\n",
       "2           4.20\n",
       "3           5.95\n",
       "4          16.78\n",
       "           ...  \n",
       "1108158    22.37\n",
       "1108159    16.22\n",
       "1108160    27.52\n",
       "1108161    12.53\n",
       "1108162    27.15\n",
       "Name: tripduration, Length: 1108163, dtype: float64"
      ]
     },
     "execution_count": 145,
     "metadata": {},
     "output_type": "execute_result"
    }
   ],
   "source": [
    "round(data['tripduration']/60,2)"
   ]
  },
  {
   "cell_type": "code",
   "execution_count": 146,
   "id": "12f68d69",
   "metadata": {},
   "outputs": [],
   "source": [
    "trip_in_mins=round(data['tripduration']/60,2)"
   ]
  },
  {
   "cell_type": "code",
   "execution_count": 147,
   "id": "07117e39",
   "metadata": {},
   "outputs": [],
   "source": [
    "data['trip_in_mins']=trip_in_mins"
   ]
  },
  {
   "cell_type": "code",
   "execution_count": 148,
   "id": "31df8058",
   "metadata": {},
   "outputs": [
    {
     "data": {
      "text/plain": [
       "tripid                   int64\n",
       "start_time      datetime64[ns]\n",
       "end_time        datetime64[ns]\n",
       "bikeid                   int64\n",
       "tripduration           float64\n",
       "usertype                object\n",
       "gender                  object\n",
       "birthyear              float64\n",
       "trip_in_mins           float64\n",
       "dtype: object"
      ]
     },
     "execution_count": 148,
     "metadata": {},
     "output_type": "execute_result"
    }
   ],
   "source": [
    "data.dtypes"
   ]
  },
  {
   "cell_type": "code",
   "execution_count": 149,
   "id": "2aa12c4f",
   "metadata": {
    "scrolled": true
   },
   "outputs": [
    {
     "data": {
      "text/plain": [
       "0          1\n",
       "1          1\n",
       "2          1\n",
       "3          1\n",
       "4          1\n",
       "          ..\n",
       "1108158    7\n",
       "1108159    7\n",
       "1108160    7\n",
       "1108161    7\n",
       "1108162    7\n",
       "Name: start_time, Length: 1108163, dtype: int64"
      ]
     },
     "execution_count": 149,
     "metadata": {},
     "output_type": "execute_result"
    }
   ],
   "source": [
    "data['start_time'].dt.dayofweek +1"
   ]
  },
  {
   "cell_type": "code",
   "execution_count": 150,
   "id": "7280ac91",
   "metadata": {},
   "outputs": [],
   "source": [
    "weekdays = data['start_time'].dt.dayofweek +1"
   ]
  },
  {
   "cell_type": "code",
   "execution_count": 151,
   "id": "f915d428",
   "metadata": {},
   "outputs": [
    {
     "data": {
      "text/plain": [
       "Index(['tripid', 'start_time', 'end_time', 'bikeid', 'tripduration',\n",
       "       'usertype', 'gender', 'birthyear', 'trip_in_mins'],\n",
       "      dtype='object')"
      ]
     },
     "execution_count": 151,
     "metadata": {},
     "output_type": "execute_result"
    }
   ],
   "source": [
    "data.columns"
   ]
  },
  {
   "cell_type": "code",
   "execution_count": 152,
   "id": "431f10ae",
   "metadata": {},
   "outputs": [],
   "source": [
    "data['weekdays'] = weekdays"
   ]
  },
  {
   "cell_type": "code",
   "execution_count": 153,
   "id": "22664128",
   "metadata": {},
   "outputs": [
    {
     "data": {
      "text/plain": [
       "Index(['tripid', 'start_time', 'end_time', 'bikeid', 'tripduration',\n",
       "       'usertype', 'gender', 'birthyear', 'trip_in_mins', 'weekdays'],\n",
       "      dtype='object')"
      ]
     },
     "execution_count": 153,
     "metadata": {},
     "output_type": "execute_result"
    }
   ],
   "source": [
    "data.columns"
   ]
  },
  {
   "cell_type": "code",
   "execution_count": 154,
   "id": "5a4a1af7",
   "metadata": {},
   "outputs": [
    {
     "data": {
      "text/plain": [
       "dtype('int64')"
      ]
     },
     "execution_count": 154,
     "metadata": {},
     "output_type": "execute_result"
    }
   ],
   "source": [
    "data['weekdays'].dtypes"
   ]
  },
  {
   "cell_type": "code",
   "execution_count": 81,
   "id": "7de702a7",
   "metadata": {},
   "outputs": [],
   "source": [
    "## get age"
   ]
  },
  {
   "cell_type": "code",
   "execution_count": 156,
   "id": "d3baeb74",
   "metadata": {},
   "outputs": [],
   "source": [
    "age=2023 - data['birthyear']"
   ]
  },
  {
   "cell_type": "code",
   "execution_count": 157,
   "id": "eec08816",
   "metadata": {},
   "outputs": [
    {
     "data": {
      "text/plain": [
       "0          48.0\n",
       "1          39.0\n",
       "2          33.0\n",
       "3          30.0\n",
       "4          31.0\n",
       "           ... \n",
       "1108158     NaN\n",
       "1108159    43.0\n",
       "1108160    32.0\n",
       "1108161    31.0\n",
       "1108162    36.0\n",
       "Name: birthyear, Length: 1108163, dtype: float64"
      ]
     },
     "execution_count": 157,
     "metadata": {},
     "output_type": "execute_result"
    }
   ],
   "source": [
    "age"
   ]
  },
  {
   "cell_type": "code",
   "execution_count": 158,
   "id": "12aac32f",
   "metadata": {},
   "outputs": [],
   "source": [
    "data['age']=age"
   ]
  },
  {
   "cell_type": "code",
   "execution_count": 159,
   "id": "0b8307ea",
   "metadata": {},
   "outputs": [
    {
     "data": {
      "text/plain": [
       "Index(['tripid', 'start_time', 'end_time', 'bikeid', 'tripduration',\n",
       "       'usertype', 'gender', 'birthyear', 'trip_in_mins', 'weekdays', 'age'],\n",
       "      dtype='object')"
      ]
     },
     "execution_count": 159,
     "metadata": {},
     "output_type": "execute_result"
    }
   ],
   "source": [
    "data.columns"
   ]
  },
  {
   "cell_type": "code",
   "execution_count": 160,
   "id": "02336389",
   "metadata": {},
   "outputs": [
    {
     "data": {
      "text/plain": [
       "tripid                   int64\n",
       "start_time      datetime64[ns]\n",
       "end_time        datetime64[ns]\n",
       "bikeid                   int64\n",
       "tripduration           float64\n",
       "usertype                object\n",
       "gender                  object\n",
       "birthyear              float64\n",
       "trip_in_mins           float64\n",
       "weekdays                 int64\n",
       "age                    float64\n",
       "dtype: object"
      ]
     },
     "execution_count": 160,
     "metadata": {},
     "output_type": "execute_result"
    }
   ],
   "source": [
    "data.dtypes"
   ]
  },
  {
   "cell_type": "code",
   "execution_count": 161,
   "id": "4df1c545",
   "metadata": {
    "scrolled": true
   },
   "outputs": [
    {
     "ename": "IntCastingNaNError",
     "evalue": "Cannot convert non-finite values (NA or inf) to integer",
     "output_type": "error",
     "traceback": [
      "\u001b[1;31m---------------------------------------------------------------------------\u001b[0m",
      "\u001b[1;31mIntCastingNaNError\u001b[0m                        Traceback (most recent call last)",
      "Cell \u001b[1;32mIn[161], line 1\u001b[0m\n\u001b[1;32m----> 1\u001b[0m data\u001b[38;5;241m.\u001b[39mage\u001b[38;5;241m.\u001b[39mastype(\u001b[38;5;28mint\u001b[39m)\n",
      "File \u001b[1;32m~\\anaconda3\\Lib\\site-packages\\pandas\\core\\generic.py:6240\u001b[0m, in \u001b[0;36mNDFrame.astype\u001b[1;34m(self, dtype, copy, errors)\u001b[0m\n\u001b[0;32m   6233\u001b[0m     results \u001b[38;5;241m=\u001b[39m [\n\u001b[0;32m   6234\u001b[0m         \u001b[38;5;28mself\u001b[39m\u001b[38;5;241m.\u001b[39miloc[:, i]\u001b[38;5;241m.\u001b[39mastype(dtype, copy\u001b[38;5;241m=\u001b[39mcopy)\n\u001b[0;32m   6235\u001b[0m         \u001b[38;5;28;01mfor\u001b[39;00m i \u001b[38;5;129;01min\u001b[39;00m \u001b[38;5;28mrange\u001b[39m(\u001b[38;5;28mlen\u001b[39m(\u001b[38;5;28mself\u001b[39m\u001b[38;5;241m.\u001b[39mcolumns))\n\u001b[0;32m   6236\u001b[0m     ]\n\u001b[0;32m   6238\u001b[0m \u001b[38;5;28;01melse\u001b[39;00m:\n\u001b[0;32m   6239\u001b[0m     \u001b[38;5;66;03m# else, only a single dtype is given\u001b[39;00m\n\u001b[1;32m-> 6240\u001b[0m     new_data \u001b[38;5;241m=\u001b[39m \u001b[38;5;28mself\u001b[39m\u001b[38;5;241m.\u001b[39m_mgr\u001b[38;5;241m.\u001b[39mastype(dtype\u001b[38;5;241m=\u001b[39mdtype, copy\u001b[38;5;241m=\u001b[39mcopy, errors\u001b[38;5;241m=\u001b[39merrors)\n\u001b[0;32m   6241\u001b[0m     \u001b[38;5;28;01mreturn\u001b[39;00m \u001b[38;5;28mself\u001b[39m\u001b[38;5;241m.\u001b[39m_constructor(new_data)\u001b[38;5;241m.\u001b[39m__finalize__(\u001b[38;5;28mself\u001b[39m, method\u001b[38;5;241m=\u001b[39m\u001b[38;5;124m\"\u001b[39m\u001b[38;5;124mastype\u001b[39m\u001b[38;5;124m\"\u001b[39m)\n\u001b[0;32m   6243\u001b[0m \u001b[38;5;66;03m# GH 33113: handle empty frame or series\u001b[39;00m\n",
      "File \u001b[1;32m~\\anaconda3\\Lib\\site-packages\\pandas\\core\\internals\\managers.py:448\u001b[0m, in \u001b[0;36mBaseBlockManager.astype\u001b[1;34m(self, dtype, copy, errors)\u001b[0m\n\u001b[0;32m    447\u001b[0m \u001b[38;5;28;01mdef\u001b[39;00m \u001b[38;5;21mastype\u001b[39m(\u001b[38;5;28mself\u001b[39m: T, dtype, copy: \u001b[38;5;28mbool\u001b[39m \u001b[38;5;241m=\u001b[39m \u001b[38;5;28;01mFalse\u001b[39;00m, errors: \u001b[38;5;28mstr\u001b[39m \u001b[38;5;241m=\u001b[39m \u001b[38;5;124m\"\u001b[39m\u001b[38;5;124mraise\u001b[39m\u001b[38;5;124m\"\u001b[39m) \u001b[38;5;241m-\u001b[39m\u001b[38;5;241m>\u001b[39m T:\n\u001b[1;32m--> 448\u001b[0m     \u001b[38;5;28;01mreturn\u001b[39;00m \u001b[38;5;28mself\u001b[39m\u001b[38;5;241m.\u001b[39mapply(\u001b[38;5;124m\"\u001b[39m\u001b[38;5;124mastype\u001b[39m\u001b[38;5;124m\"\u001b[39m, dtype\u001b[38;5;241m=\u001b[39mdtype, copy\u001b[38;5;241m=\u001b[39mcopy, errors\u001b[38;5;241m=\u001b[39merrors)\n",
      "File \u001b[1;32m~\\anaconda3\\Lib\\site-packages\\pandas\\core\\internals\\managers.py:352\u001b[0m, in \u001b[0;36mBaseBlockManager.apply\u001b[1;34m(self, f, align_keys, ignore_failures, **kwargs)\u001b[0m\n\u001b[0;32m    350\u001b[0m         applied \u001b[38;5;241m=\u001b[39m b\u001b[38;5;241m.\u001b[39mapply(f, \u001b[38;5;241m*\u001b[39m\u001b[38;5;241m*\u001b[39mkwargs)\n\u001b[0;32m    351\u001b[0m     \u001b[38;5;28;01melse\u001b[39;00m:\n\u001b[1;32m--> 352\u001b[0m         applied \u001b[38;5;241m=\u001b[39m \u001b[38;5;28mgetattr\u001b[39m(b, f)(\u001b[38;5;241m*\u001b[39m\u001b[38;5;241m*\u001b[39mkwargs)\n\u001b[0;32m    353\u001b[0m \u001b[38;5;28;01mexcept\u001b[39;00m (\u001b[38;5;167;01mTypeError\u001b[39;00m, \u001b[38;5;167;01mNotImplementedError\u001b[39;00m):\n\u001b[0;32m    354\u001b[0m     \u001b[38;5;28;01mif\u001b[39;00m \u001b[38;5;129;01mnot\u001b[39;00m ignore_failures:\n",
      "File \u001b[1;32m~\\anaconda3\\Lib\\site-packages\\pandas\\core\\internals\\blocks.py:526\u001b[0m, in \u001b[0;36mBlock.astype\u001b[1;34m(self, dtype, copy, errors)\u001b[0m\n\u001b[0;32m    508\u001b[0m \u001b[38;5;250m\u001b[39m\u001b[38;5;124;03m\"\"\"\u001b[39;00m\n\u001b[0;32m    509\u001b[0m \u001b[38;5;124;03mCoerce to the new dtype.\u001b[39;00m\n\u001b[0;32m    510\u001b[0m \n\u001b[1;32m   (...)\u001b[0m\n\u001b[0;32m    522\u001b[0m \u001b[38;5;124;03mBlock\u001b[39;00m\n\u001b[0;32m    523\u001b[0m \u001b[38;5;124;03m\"\"\"\u001b[39;00m\n\u001b[0;32m    524\u001b[0m values \u001b[38;5;241m=\u001b[39m \u001b[38;5;28mself\u001b[39m\u001b[38;5;241m.\u001b[39mvalues\n\u001b[1;32m--> 526\u001b[0m new_values \u001b[38;5;241m=\u001b[39m astype_array_safe(values, dtype, copy\u001b[38;5;241m=\u001b[39mcopy, errors\u001b[38;5;241m=\u001b[39merrors)\n\u001b[0;32m    528\u001b[0m new_values \u001b[38;5;241m=\u001b[39m maybe_coerce_values(new_values)\n\u001b[0;32m    529\u001b[0m newb \u001b[38;5;241m=\u001b[39m \u001b[38;5;28mself\u001b[39m\u001b[38;5;241m.\u001b[39mmake_block(new_values)\n",
      "File \u001b[1;32m~\\anaconda3\\Lib\\site-packages\\pandas\\core\\dtypes\\astype.py:299\u001b[0m, in \u001b[0;36mastype_array_safe\u001b[1;34m(values, dtype, copy, errors)\u001b[0m\n\u001b[0;32m    296\u001b[0m     \u001b[38;5;28;01mreturn\u001b[39;00m values\u001b[38;5;241m.\u001b[39mcopy()\n\u001b[0;32m    298\u001b[0m \u001b[38;5;28;01mtry\u001b[39;00m:\n\u001b[1;32m--> 299\u001b[0m     new_values \u001b[38;5;241m=\u001b[39m astype_array(values, dtype, copy\u001b[38;5;241m=\u001b[39mcopy)\n\u001b[0;32m    300\u001b[0m \u001b[38;5;28;01mexcept\u001b[39;00m (\u001b[38;5;167;01mValueError\u001b[39;00m, \u001b[38;5;167;01mTypeError\u001b[39;00m):\n\u001b[0;32m    301\u001b[0m     \u001b[38;5;66;03m# e.g. astype_nansafe can fail on object-dtype of strings\u001b[39;00m\n\u001b[0;32m    302\u001b[0m     \u001b[38;5;66;03m#  trying to convert to float\u001b[39;00m\n\u001b[0;32m    303\u001b[0m     \u001b[38;5;28;01mif\u001b[39;00m errors \u001b[38;5;241m==\u001b[39m \u001b[38;5;124m\"\u001b[39m\u001b[38;5;124mignore\u001b[39m\u001b[38;5;124m\"\u001b[39m:\n",
      "File \u001b[1;32m~\\anaconda3\\Lib\\site-packages\\pandas\\core\\dtypes\\astype.py:230\u001b[0m, in \u001b[0;36mastype_array\u001b[1;34m(values, dtype, copy)\u001b[0m\n\u001b[0;32m    227\u001b[0m     values \u001b[38;5;241m=\u001b[39m values\u001b[38;5;241m.\u001b[39mastype(dtype, copy\u001b[38;5;241m=\u001b[39mcopy)\n\u001b[0;32m    229\u001b[0m \u001b[38;5;28;01melse\u001b[39;00m:\n\u001b[1;32m--> 230\u001b[0m     values \u001b[38;5;241m=\u001b[39m astype_nansafe(values, dtype, copy\u001b[38;5;241m=\u001b[39mcopy)\n\u001b[0;32m    232\u001b[0m \u001b[38;5;66;03m# in pandas we don't store numpy str dtypes, so convert to object\u001b[39;00m\n\u001b[0;32m    233\u001b[0m \u001b[38;5;28;01mif\u001b[39;00m \u001b[38;5;28misinstance\u001b[39m(dtype, np\u001b[38;5;241m.\u001b[39mdtype) \u001b[38;5;129;01mand\u001b[39;00m \u001b[38;5;28missubclass\u001b[39m(values\u001b[38;5;241m.\u001b[39mdtype\u001b[38;5;241m.\u001b[39mtype, \u001b[38;5;28mstr\u001b[39m):\n",
      "File \u001b[1;32m~\\anaconda3\\Lib\\site-packages\\pandas\\core\\dtypes\\astype.py:140\u001b[0m, in \u001b[0;36mastype_nansafe\u001b[1;34m(arr, dtype, copy, skipna)\u001b[0m\n\u001b[0;32m    137\u001b[0m     \u001b[38;5;28;01mraise\u001b[39;00m \u001b[38;5;167;01mTypeError\u001b[39;00m(\u001b[38;5;124mf\u001b[39m\u001b[38;5;124m\"\u001b[39m\u001b[38;5;124mcannot astype a timedelta from [\u001b[39m\u001b[38;5;132;01m{\u001b[39;00marr\u001b[38;5;241m.\u001b[39mdtype\u001b[38;5;132;01m}\u001b[39;00m\u001b[38;5;124m] to [\u001b[39m\u001b[38;5;132;01m{\u001b[39;00mdtype\u001b[38;5;132;01m}\u001b[39;00m\u001b[38;5;124m]\u001b[39m\u001b[38;5;124m\"\u001b[39m)\n\u001b[0;32m    139\u001b[0m \u001b[38;5;28;01melif\u001b[39;00m np\u001b[38;5;241m.\u001b[39missubdtype(arr\u001b[38;5;241m.\u001b[39mdtype, np\u001b[38;5;241m.\u001b[39mfloating) \u001b[38;5;129;01mand\u001b[39;00m is_integer_dtype(dtype):\n\u001b[1;32m--> 140\u001b[0m     \u001b[38;5;28;01mreturn\u001b[39;00m _astype_float_to_int_nansafe(arr, dtype, copy)\n\u001b[0;32m    142\u001b[0m \u001b[38;5;28;01melif\u001b[39;00m is_object_dtype(arr\u001b[38;5;241m.\u001b[39mdtype):\n\u001b[0;32m    143\u001b[0m \n\u001b[0;32m    144\u001b[0m     \u001b[38;5;66;03m# if we have a datetime/timedelta array of objects\u001b[39;00m\n\u001b[0;32m    145\u001b[0m     \u001b[38;5;66;03m# then coerce to a proper dtype and recall astype_nansafe\u001b[39;00m\n\u001b[0;32m    147\u001b[0m     \u001b[38;5;28;01mif\u001b[39;00m is_datetime64_dtype(dtype):\n",
      "File \u001b[1;32m~\\anaconda3\\Lib\\site-packages\\pandas\\core\\dtypes\\astype.py:182\u001b[0m, in \u001b[0;36m_astype_float_to_int_nansafe\u001b[1;34m(values, dtype, copy)\u001b[0m\n\u001b[0;32m    178\u001b[0m \u001b[38;5;250m\u001b[39m\u001b[38;5;124;03m\"\"\"\u001b[39;00m\n\u001b[0;32m    179\u001b[0m \u001b[38;5;124;03mastype with a check preventing converting NaN to an meaningless integer value.\u001b[39;00m\n\u001b[0;32m    180\u001b[0m \u001b[38;5;124;03m\"\"\"\u001b[39;00m\n\u001b[0;32m    181\u001b[0m \u001b[38;5;28;01mif\u001b[39;00m \u001b[38;5;129;01mnot\u001b[39;00m np\u001b[38;5;241m.\u001b[39misfinite(values)\u001b[38;5;241m.\u001b[39mall():\n\u001b[1;32m--> 182\u001b[0m     \u001b[38;5;28;01mraise\u001b[39;00m IntCastingNaNError(\n\u001b[0;32m    183\u001b[0m         \u001b[38;5;124m\"\u001b[39m\u001b[38;5;124mCannot convert non-finite values (NA or inf) to integer\u001b[39m\u001b[38;5;124m\"\u001b[39m\n\u001b[0;32m    184\u001b[0m     )\n\u001b[0;32m    185\u001b[0m \u001b[38;5;28;01mif\u001b[39;00m dtype\u001b[38;5;241m.\u001b[39mkind \u001b[38;5;241m==\u001b[39m \u001b[38;5;124m\"\u001b[39m\u001b[38;5;124mu\u001b[39m\u001b[38;5;124m\"\u001b[39m:\n\u001b[0;32m    186\u001b[0m     \u001b[38;5;66;03m# GH#45151\u001b[39;00m\n\u001b[0;32m    187\u001b[0m     \u001b[38;5;28;01mif\u001b[39;00m \u001b[38;5;129;01mnot\u001b[39;00m (values \u001b[38;5;241m>\u001b[39m\u001b[38;5;241m=\u001b[39m \u001b[38;5;241m0\u001b[39m)\u001b[38;5;241m.\u001b[39mall():\n",
      "\u001b[1;31mIntCastingNaNError\u001b[0m: Cannot convert non-finite values (NA or inf) to integer"
     ]
    }
   ],
   "source": [
    "data.age.astype(int)"
   ]
  },
  {
   "cell_type": "code",
   "execution_count": 162,
   "id": "52190027",
   "metadata": {},
   "outputs": [
    {
     "data": {
      "text/html": [
       "<div>\n",
       "<style scoped>\n",
       "    .dataframe tbody tr th:only-of-type {\n",
       "        vertical-align: middle;\n",
       "    }\n",
       "\n",
       "    .dataframe tbody tr th {\n",
       "        vertical-align: top;\n",
       "    }\n",
       "\n",
       "    .dataframe thead th {\n",
       "        text-align: right;\n",
       "    }\n",
       "</style>\n",
       "<table border=\"1\" class=\"dataframe\">\n",
       "  <thead>\n",
       "    <tr style=\"text-align: right;\">\n",
       "      <th></th>\n",
       "      <th>tripid</th>\n",
       "      <th>start_time</th>\n",
       "      <th>end_time</th>\n",
       "      <th>bikeid</th>\n",
       "      <th>tripduration</th>\n",
       "      <th>usertype</th>\n",
       "      <th>gender</th>\n",
       "      <th>birthyear</th>\n",
       "      <th>trip_in_mins</th>\n",
       "      <th>weekdays</th>\n",
       "      <th>age</th>\n",
       "    </tr>\n",
       "  </thead>\n",
       "  <tbody>\n",
       "    <tr>\n",
       "      <th>0</th>\n",
       "      <td>22178529</td>\n",
       "      <td>2019-04-01 00:02:22</td>\n",
       "      <td>2019-04-01 00:09:48</td>\n",
       "      <td>6251</td>\n",
       "      <td>446.0</td>\n",
       "      <td>Subscriber</td>\n",
       "      <td>Male</td>\n",
       "      <td>1975.0</td>\n",
       "      <td>7.43</td>\n",
       "      <td>1</td>\n",
       "      <td>48.0</td>\n",
       "    </tr>\n",
       "    <tr>\n",
       "      <th>1</th>\n",
       "      <td>22178530</td>\n",
       "      <td>2019-04-01 00:03:02</td>\n",
       "      <td>2019-04-01 00:20:30</td>\n",
       "      <td>6226</td>\n",
       "      <td>1048.0</td>\n",
       "      <td>Subscriber</td>\n",
       "      <td>Female</td>\n",
       "      <td>1984.0</td>\n",
       "      <td>17.47</td>\n",
       "      <td>1</td>\n",
       "      <td>39.0</td>\n",
       "    </tr>\n",
       "    <tr>\n",
       "      <th>2</th>\n",
       "      <td>22178531</td>\n",
       "      <td>2019-04-01 00:11:07</td>\n",
       "      <td>2019-04-01 00:15:19</td>\n",
       "      <td>5649</td>\n",
       "      <td>252.0</td>\n",
       "      <td>Subscriber</td>\n",
       "      <td>Male</td>\n",
       "      <td>1990.0</td>\n",
       "      <td>4.20</td>\n",
       "      <td>1</td>\n",
       "      <td>33.0</td>\n",
       "    </tr>\n",
       "    <tr>\n",
       "      <th>3</th>\n",
       "      <td>22178532</td>\n",
       "      <td>2019-04-01 00:13:01</td>\n",
       "      <td>2019-04-01 00:18:58</td>\n",
       "      <td>4151</td>\n",
       "      <td>357.0</td>\n",
       "      <td>Subscriber</td>\n",
       "      <td>Male</td>\n",
       "      <td>1993.0</td>\n",
       "      <td>5.95</td>\n",
       "      <td>1</td>\n",
       "      <td>30.0</td>\n",
       "    </tr>\n",
       "    <tr>\n",
       "      <th>4</th>\n",
       "      <td>22178533</td>\n",
       "      <td>2019-04-01 00:19:26</td>\n",
       "      <td>2019-04-01 00:36:13</td>\n",
       "      <td>3270</td>\n",
       "      <td>1007.0</td>\n",
       "      <td>Subscriber</td>\n",
       "      <td>Male</td>\n",
       "      <td>1992.0</td>\n",
       "      <td>16.78</td>\n",
       "      <td>1</td>\n",
       "      <td>31.0</td>\n",
       "    </tr>\n",
       "    <tr>\n",
       "      <th>...</th>\n",
       "      <td>...</td>\n",
       "      <td>...</td>\n",
       "      <td>...</td>\n",
       "      <td>...</td>\n",
       "      <td>...</td>\n",
       "      <td>...</td>\n",
       "      <td>...</td>\n",
       "      <td>...</td>\n",
       "      <td>...</td>\n",
       "      <td>...</td>\n",
       "      <td>...</td>\n",
       "    </tr>\n",
       "    <tr>\n",
       "      <th>1108156</th>\n",
       "      <td>23479381</td>\n",
       "      <td>2019-06-30 23:57:54</td>\n",
       "      <td>2019-07-01 00:10:47</td>\n",
       "      <td>1044</td>\n",
       "      <td>773.0</td>\n",
       "      <td>Subscriber</td>\n",
       "      <td>Male</td>\n",
       "      <td>1962.0</td>\n",
       "      <td>12.88</td>\n",
       "      <td>7</td>\n",
       "      <td>61.0</td>\n",
       "    </tr>\n",
       "    <tr>\n",
       "      <th>1108159</th>\n",
       "      <td>23479384</td>\n",
       "      <td>2019-06-30 23:58:04</td>\n",
       "      <td>2019-07-01 00:14:17</td>\n",
       "      <td>6301</td>\n",
       "      <td>973.0</td>\n",
       "      <td>Subscriber</td>\n",
       "      <td>Male</td>\n",
       "      <td>1980.0</td>\n",
       "      <td>16.22</td>\n",
       "      <td>7</td>\n",
       "      <td>43.0</td>\n",
       "    </tr>\n",
       "    <tr>\n",
       "      <th>1108160</th>\n",
       "      <td>23479385</td>\n",
       "      <td>2019-06-30 23:58:20</td>\n",
       "      <td>2019-07-01 00:25:51</td>\n",
       "      <td>4472</td>\n",
       "      <td>1651.0</td>\n",
       "      <td>Subscriber</td>\n",
       "      <td>Female</td>\n",
       "      <td>1991.0</td>\n",
       "      <td>27.52</td>\n",
       "      <td>7</td>\n",
       "      <td>32.0</td>\n",
       "    </tr>\n",
       "    <tr>\n",
       "      <th>1108161</th>\n",
       "      <td>23479386</td>\n",
       "      <td>2019-06-30 23:58:52</td>\n",
       "      <td>2019-07-01 00:11:24</td>\n",
       "      <td>5021</td>\n",
       "      <td>752.0</td>\n",
       "      <td>Subscriber</td>\n",
       "      <td>Male</td>\n",
       "      <td>1992.0</td>\n",
       "      <td>12.53</td>\n",
       "      <td>7</td>\n",
       "      <td>31.0</td>\n",
       "    </tr>\n",
       "    <tr>\n",
       "      <th>1108162</th>\n",
       "      <td>23479387</td>\n",
       "      <td>2019-06-30 23:59:05</td>\n",
       "      <td>2019-07-01 00:26:14</td>\n",
       "      <td>4749</td>\n",
       "      <td>1629.0</td>\n",
       "      <td>Subscriber</td>\n",
       "      <td>Male</td>\n",
       "      <td>1987.0</td>\n",
       "      <td>27.15</td>\n",
       "      <td>7</td>\n",
       "      <td>36.0</td>\n",
       "    </tr>\n",
       "  </tbody>\n",
       "</table>\n",
       "<p>922608 rows × 11 columns</p>\n",
       "</div>"
      ],
      "text/plain": [
       "           tripid          start_time            end_time  bikeid  \\\n",
       "0        22178529 2019-04-01 00:02:22 2019-04-01 00:09:48    6251   \n",
       "1        22178530 2019-04-01 00:03:02 2019-04-01 00:20:30    6226   \n",
       "2        22178531 2019-04-01 00:11:07 2019-04-01 00:15:19    5649   \n",
       "3        22178532 2019-04-01 00:13:01 2019-04-01 00:18:58    4151   \n",
       "4        22178533 2019-04-01 00:19:26 2019-04-01 00:36:13    3270   \n",
       "...           ...                 ...                 ...     ...   \n",
       "1108156  23479381 2019-06-30 23:57:54 2019-07-01 00:10:47    1044   \n",
       "1108159  23479384 2019-06-30 23:58:04 2019-07-01 00:14:17    6301   \n",
       "1108160  23479385 2019-06-30 23:58:20 2019-07-01 00:25:51    4472   \n",
       "1108161  23479386 2019-06-30 23:58:52 2019-07-01 00:11:24    5021   \n",
       "1108162  23479387 2019-06-30 23:59:05 2019-07-01 00:26:14    4749   \n",
       "\n",
       "         tripduration    usertype  gender  birthyear  trip_in_mins  weekdays  \\\n",
       "0               446.0  Subscriber    Male     1975.0          7.43         1   \n",
       "1              1048.0  Subscriber  Female     1984.0         17.47         1   \n",
       "2               252.0  Subscriber    Male     1990.0          4.20         1   \n",
       "3               357.0  Subscriber    Male     1993.0          5.95         1   \n",
       "4              1007.0  Subscriber    Male     1992.0         16.78         1   \n",
       "...               ...         ...     ...        ...           ...       ...   \n",
       "1108156         773.0  Subscriber    Male     1962.0         12.88         7   \n",
       "1108159         973.0  Subscriber    Male     1980.0         16.22         7   \n",
       "1108160        1651.0  Subscriber  Female     1991.0         27.52         7   \n",
       "1108161         752.0  Subscriber    Male     1992.0         12.53         7   \n",
       "1108162        1629.0  Subscriber    Male     1987.0         27.15         7   \n",
       "\n",
       "          age  \n",
       "0        48.0  \n",
       "1        39.0  \n",
       "2        33.0  \n",
       "3        30.0  \n",
       "4        31.0  \n",
       "...       ...  \n",
       "1108156  61.0  \n",
       "1108159  43.0  \n",
       "1108160  32.0  \n",
       "1108161  31.0  \n",
       "1108162  36.0  \n",
       "\n",
       "[922608 rows x 11 columns]"
      ]
     },
     "execution_count": 162,
     "metadata": {},
     "output_type": "execute_result"
    }
   ],
   "source": [
    "data.dropna()"
   ]
  },
  {
   "cell_type": "code",
   "execution_count": 163,
   "id": "56224973",
   "metadata": {},
   "outputs": [],
   "source": [
    "data=data.dropna()"
   ]
  },
  {
   "cell_type": "code",
   "execution_count": 164,
   "id": "47b99006",
   "metadata": {
    "scrolled": true
   },
   "outputs": [
    {
     "data": {
      "text/plain": [
       "Index(['tripid', 'start_time', 'end_time', 'bikeid', 'tripduration',\n",
       "       'usertype', 'gender', 'birthyear', 'trip_in_mins', 'weekdays', 'age'],\n",
       "      dtype='object')"
      ]
     },
     "execution_count": 164,
     "metadata": {},
     "output_type": "execute_result"
    }
   ],
   "source": [
    "data.columns"
   ]
  },
  {
   "cell_type": "code",
   "execution_count": 165,
   "id": "31c1a24e",
   "metadata": {},
   "outputs": [
    {
     "data": {
      "text/plain": [
       "tripid                   int64\n",
       "start_time      datetime64[ns]\n",
       "end_time        datetime64[ns]\n",
       "bikeid                   int64\n",
       "tripduration           float64\n",
       "usertype                object\n",
       "gender                  object\n",
       "birthyear              float64\n",
       "trip_in_mins           float64\n",
       "weekdays                 int64\n",
       "age                    float64\n",
       "dtype: object"
      ]
     },
     "execution_count": 165,
     "metadata": {},
     "output_type": "execute_result"
    }
   ],
   "source": [
    "data.dtypes"
   ]
  },
  {
   "cell_type": "code",
   "execution_count": 167,
   "id": "628efd73",
   "metadata": {},
   "outputs": [
    {
     "name": "stderr",
     "output_type": "stream",
     "text": [
      "C:\\Users\\Ahmed\\AppData\\Local\\Temp\\ipykernel_15504\\1122731002.py:1: SettingWithCopyWarning: \n",
      "A value is trying to be set on a copy of a slice from a DataFrame.\n",
      "Try using .loc[row_indexer,col_indexer] = value instead\n",
      "\n",
      "See the caveats in the documentation: https://pandas.pydata.org/pandas-docs/stable/user_guide/indexing.html#returning-a-view-versus-a-copy\n",
      "  data['age']=data.age.astype(int)\n"
     ]
    }
   ],
   "source": [
    "data['age']=data.age.astype(int)"
   ]
  },
  {
   "cell_type": "code",
   "execution_count": 168,
   "id": "fb4851a4",
   "metadata": {},
   "outputs": [
    {
     "data": {
      "text/plain": [
       "tripid                   int64\n",
       "start_time      datetime64[ns]\n",
       "end_time        datetime64[ns]\n",
       "bikeid                   int64\n",
       "tripduration           float64\n",
       "usertype                object\n",
       "gender                  object\n",
       "birthyear              float64\n",
       "trip_in_mins           float64\n",
       "weekdays                 int64\n",
       "age                      int32\n",
       "dtype: object"
      ]
     },
     "execution_count": 168,
     "metadata": {},
     "output_type": "execute_result"
    }
   ],
   "source": [
    "data.dtypes"
   ]
  },
  {
   "cell_type": "code",
   "execution_count": 169,
   "id": "23420f0d",
   "metadata": {},
   "outputs": [
    {
     "data": {
      "text/html": [
       "<div>\n",
       "<style scoped>\n",
       "    .dataframe tbody tr th:only-of-type {\n",
       "        vertical-align: middle;\n",
       "    }\n",
       "\n",
       "    .dataframe tbody tr th {\n",
       "        vertical-align: top;\n",
       "    }\n",
       "\n",
       "    .dataframe thead th {\n",
       "        text-align: right;\n",
       "    }\n",
       "</style>\n",
       "<table border=\"1\" class=\"dataframe\">\n",
       "  <thead>\n",
       "    <tr style=\"text-align: right;\">\n",
       "      <th></th>\n",
       "      <th>tripid</th>\n",
       "      <th>bikeid</th>\n",
       "      <th>tripduration</th>\n",
       "      <th>birthyear</th>\n",
       "      <th>trip_in_mins</th>\n",
       "      <th>weekdays</th>\n",
       "      <th>age</th>\n",
       "    </tr>\n",
       "  </thead>\n",
       "  <tbody>\n",
       "    <tr>\n",
       "      <th>count</th>\n",
       "      <td>9.226080e+05</td>\n",
       "      <td>922608.000000</td>\n",
       "      <td>9.226080e+05</td>\n",
       "      <td>922608.000000</td>\n",
       "      <td>922608.000000</td>\n",
       "      <td>922608.000000</td>\n",
       "      <td>922608.000000</td>\n",
       "    </tr>\n",
       "    <tr>\n",
       "      <th>mean</th>\n",
       "      <td>2.281821e+07</td>\n",
       "      <td>3410.908376</td>\n",
       "      <td>9.811843e+02</td>\n",
       "      <td>1983.954518</td>\n",
       "      <td>16.353071</td>\n",
       "      <td>3.751870</td>\n",
       "      <td>39.045482</td>\n",
       "    </tr>\n",
       "    <tr>\n",
       "      <th>std</th>\n",
       "      <td>3.747956e+05</td>\n",
       "      <td>1912.395388</td>\n",
       "      <td>7.969447e+03</td>\n",
       "      <td>10.788886</td>\n",
       "      <td>132.824125</td>\n",
       "      <td>1.890154</td>\n",
       "      <td>10.788886</td>\n",
       "    </tr>\n",
       "    <tr>\n",
       "      <th>min</th>\n",
       "      <td>2.217853e+07</td>\n",
       "      <td>1.000000</td>\n",
       "      <td>6.100000e+01</td>\n",
       "      <td>1759.000000</td>\n",
       "      <td>1.020000</td>\n",
       "      <td>1.000000</td>\n",
       "      <td>9.000000</td>\n",
       "    </tr>\n",
       "    <tr>\n",
       "      <th>25%</th>\n",
       "      <td>2.249225e+07</td>\n",
       "      <td>1748.000000</td>\n",
       "      <td>3.880000e+02</td>\n",
       "      <td>1979.000000</td>\n",
       "      <td>6.470000</td>\n",
       "      <td>2.000000</td>\n",
       "      <td>31.000000</td>\n",
       "    </tr>\n",
       "    <tr>\n",
       "      <th>50%</th>\n",
       "      <td>2.280984e+07</td>\n",
       "      <td>3491.000000</td>\n",
       "      <td>6.460000e+02</td>\n",
       "      <td>1987.000000</td>\n",
       "      <td>10.770000</td>\n",
       "      <td>4.000000</td>\n",
       "      <td>36.000000</td>\n",
       "    </tr>\n",
       "    <tr>\n",
       "      <th>75%</th>\n",
       "      <td>2.314255e+07</td>\n",
       "      <td>5100.000000</td>\n",
       "      <td>1.097000e+03</td>\n",
       "      <td>1992.000000</td>\n",
       "      <td>18.280000</td>\n",
       "      <td>5.000000</td>\n",
       "      <td>44.000000</td>\n",
       "    </tr>\n",
       "    <tr>\n",
       "      <th>max</th>\n",
       "      <td>2.347939e+07</td>\n",
       "      <td>6471.000000</td>\n",
       "      <td>4.439590e+06</td>\n",
       "      <td>2014.000000</td>\n",
       "      <td>73993.170000</td>\n",
       "      <td>7.000000</td>\n",
       "      <td>264.000000</td>\n",
       "    </tr>\n",
       "  </tbody>\n",
       "</table>\n",
       "</div>"
      ],
      "text/plain": [
       "             tripid         bikeid  tripduration      birthyear  \\\n",
       "count  9.226080e+05  922608.000000  9.226080e+05  922608.000000   \n",
       "mean   2.281821e+07    3410.908376  9.811843e+02    1983.954518   \n",
       "std    3.747956e+05    1912.395388  7.969447e+03      10.788886   \n",
       "min    2.217853e+07       1.000000  6.100000e+01    1759.000000   \n",
       "25%    2.249225e+07    1748.000000  3.880000e+02    1979.000000   \n",
       "50%    2.280984e+07    3491.000000  6.460000e+02    1987.000000   \n",
       "75%    2.314255e+07    5100.000000  1.097000e+03    1992.000000   \n",
       "max    2.347939e+07    6471.000000  4.439590e+06    2014.000000   \n",
       "\n",
       "        trip_in_mins       weekdays            age  \n",
       "count  922608.000000  922608.000000  922608.000000  \n",
       "mean       16.353071       3.751870      39.045482  \n",
       "std       132.824125       1.890154      10.788886  \n",
       "min         1.020000       1.000000       9.000000  \n",
       "25%         6.470000       2.000000      31.000000  \n",
       "50%        10.770000       4.000000      36.000000  \n",
       "75%        18.280000       5.000000      44.000000  \n",
       "max     73993.170000       7.000000     264.000000  "
      ]
     },
     "execution_count": 169,
     "metadata": {},
     "output_type": "execute_result"
    }
   ],
   "source": [
    "data.describe()"
   ]
  },
  {
   "cell_type": "code",
   "execution_count": 170,
   "id": "66ffca5e",
   "metadata": {},
   "outputs": [
    {
     "data": {
      "text/plain": [
       "Index(['tripid', 'start_time', 'end_time', 'bikeid', 'tripduration',\n",
       "       'usertype', 'gender', 'birthyear', 'trip_in_mins', 'weekdays', 'age'],\n",
       "      dtype='object')"
      ]
     },
     "execution_count": 170,
     "metadata": {},
     "output_type": "execute_result"
    }
   ],
   "source": [
    "data.columns"
   ]
  },
  {
   "cell_type": "code",
   "execution_count": 171,
   "id": "19edd370",
   "metadata": {},
   "outputs": [
    {
     "data": {
      "text/plain": [
       "<Axes: xlabel='usertype', ylabel='weekdays'>"
      ]
     },
     "execution_count": 171,
     "metadata": {},
     "output_type": "execute_result"
    },
    {
     "data": {
      "image/png": "[encoded data removed]",
      "text/plain": [
       "<Figure size 640x480 with 1 Axes>"
      ]
     },
     "metadata": {},
     "output_type": "display_data"
    }
   ],
   "source": [
    "sns.boxplot(x='usertype', y='weekdays', data=data)"
   ]
  },
  {
   "cell_type": "code",
   "execution_count": 173,
   "id": "8c96db30",
   "metadata": {},
   "outputs": [],
   "source": [
    "month = data['start_time'].dt.month"
   ]
  },
  {
   "cell_type": "code",
   "execution_count": 174,
   "id": "fd5f4b6d",
   "metadata": {},
   "outputs": [
    {
     "name": "stderr",
     "output_type": "stream",
     "text": [
      "C:\\Users\\Ahmed\\AppData\\Local\\Temp\\ipykernel_15504\\3048900755.py:1: SettingWithCopyWarning: \n",
      "A value is trying to be set on a copy of a slice from a DataFrame.\n",
      "Try using .loc[row_indexer,col_indexer] = value instead\n",
      "\n",
      "See the caveats in the documentation: https://pandas.pydata.org/pandas-docs/stable/user_guide/indexing.html#returning-a-view-versus-a-copy\n",
      "  data['month'] = month\n"
     ]
    }
   ],
   "source": [
    "data['month'] = month"
   ]
  },
  {
   "cell_type": "code",
   "execution_count": 175,
   "id": "d149dba5",
   "metadata": {},
   "outputs": [
    {
     "data": {
      "text/plain": [
       "0          4\n",
       "1          4\n",
       "2          4\n",
       "3          4\n",
       "4          4\n",
       "          ..\n",
       "1108156    6\n",
       "1108159    6\n",
       "1108160    6\n",
       "1108161    6\n",
       "1108162    6\n",
       "Name: month, Length: 922608, dtype: int64"
      ]
     },
     "execution_count": 175,
     "metadata": {},
     "output_type": "execute_result"
    }
   ],
   "source": [
    "data['month']"
   ]
  },
  {
   "cell_type": "code",
   "execution_count": 176,
   "id": "868f66b6",
   "metadata": {},
   "outputs": [
    {
     "data": {
      "text/plain": [
       "Index(['tripid', 'start_time', 'end_time', 'bikeid', 'tripduration',\n",
       "       'usertype', 'gender', 'birthyear', 'trip_in_mins', 'weekdays', 'age',\n",
       "       'month'],\n",
       "      dtype='object')"
      ]
     },
     "execution_count": 176,
     "metadata": {},
     "output_type": "execute_result"
    }
   ],
   "source": [
    "data.columns"
   ]
  },
  {
   "cell_type": "code",
   "execution_count": 177,
   "id": "46dddfa6",
   "metadata": {},
   "outputs": [
    {
     "data": {
      "text/plain": [
       "<Axes: xlabel='usertype', ylabel='month'>"
      ]
     },
     "execution_count": 177,
     "metadata": {},
     "output_type": "execute_result"
    },
    {
     "data": {
      "image/png": "[encoded data removed]",
      "text/plain": [
       "<Figure size 640x480 with 1 Axes>"
      ]
     },
     "metadata": {},
     "output_type": "display_data"
    }
   ],
   "source": [
    "sns.boxplot(x='usertype', y='month', data=data)"
   ]
  },
  {
   "cell_type": "code",
   "execution_count": 178,
   "id": "fcaa774a",
   "metadata": {},
   "outputs": [
    {
     "data": {
      "text/plain": [
       "<Axes: xlabel='usertype', ylabel='count'>"
      ]
     },
     "execution_count": 178,
     "metadata": {},
     "output_type": "execute_result"
    },
    {
     "data": {
      "image/png": "[encoded data removed]",
      "text/plain": [
       "<Figure size 640x480 with 1 Axes>"
      ]
     },
     "metadata": {},
     "output_type": "display_data"
    }
   ],
   "source": [
    "sns.countplot(x='usertype', data=data)"
   ]
  },
  {
   "cell_type": "code",
   "execution_count": 182,
   "id": "2bd2a3ed",
   "metadata": {},
   "outputs": [],
   "source": [
    "data.to_csv(\"A:\\courses\\Data analysis\\data\\cyclists trip data\\Trips_2019_Q2_exp.csv\")"
   ]
  },
  {
   "cell_type": "code",
   "execution_count": 183,
   "id": "dc5246b3",
   "metadata": {},
   "outputs": [
    {
     "data": {
      "text/plain": [
       "(922608, 12)"
      ]
     },
     "execution_count": 183,
     "metadata": {},
     "output_type": "execute_result"
    }
   ],
   "source": [
    "data.shape"
   ]
  },
  {
   "cell_type": "code",
   "execution_count": null,
   "id": "2ac57d73",
   "metadata": {},
   "outputs": [],
   "source": []
  }
 ],
 "metadata": {
  "kernelspec": {
   "display_name": "Python 3 (ipykernel)",
   "language": "python",
   "name": "python3"
  },
  "language_info": {
   "codemirror_mode": {
    "name": "ipython",
    "version": 3
   },
   "file_extension": ".py",
   "mimetype": "text/x-python",
   "name": "python",
   "nbconvert_exporter": "python",
   "pygments_lexer": "ipython3",
   "version": "3.11.4"
  }
 },
 "nbformat": 4,
 "nbformat_minor": 5
}
